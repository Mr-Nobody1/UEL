{
  "cells": [
    {
      "cell_type": "markdown",
      "metadata": {
        "id": "Lx9-Fre4FMda"
      },
      "source": [
        "# **Machine Learning on Big Data (CN7030) CRWK 24-25 Term B [60% weighting]**\n",
        "# **Group ID: Group_T23**\n",
        "\n",
        "# 1. Student 1: Name and ID\n",
        "# 2. Student 2: Name and ID  \n",
        "# 3. Student 3: Name and ID\n",
        "# If you want to add comments on your group work, please write it here for us:"
      ]
    },
    {
      "cell_type": "markdown",
      "metadata": {
        "id": "GdMZR-9QTwG3"
      },
      "source": [
        "\n",
        "# **Initiate and Configure Spark**"
      ]
    },
    {
      "cell_type": "code",
      "execution_count": 1,
      "metadata": {
        "colab": {
          "base_uri": "https://localhost:8080/"
        },
        "id": "_z0p88Xtw_3-",
        "outputId": "5a4c1c03-ea21-4c35-b253-29efd4b8d6dc"
      },
      "outputs": [
        {
          "name": "stdout",
          "output_type": "stream",
          "text": [
            "✅ Optimized Spark session initialized successfully\n"
          ]
        }
      ],
      "source": [
        "from pyspark.sql import SparkSession\n",
        "from pyspark.sql import functions as F\n",
        "from pyspark.ml.feature import StringIndexer, Tokenizer, StopWordsRemover, HashingTF, IDF\n",
        "from pyspark.ml.classification import LogisticRegression, RandomForestClassifier, NaiveBayes\n",
        "from pyspark.ml.evaluation import MulticlassClassificationEvaluator\n",
        "from pyspark.ml.tuning import TrainValidationSplit, ParamGridBuilder\n",
        "from pyspark.ml import Pipeline\n",
        "from pyspark.sql.functions import col, explode, array, lit, create_map\n",
        "import matplotlib.pyplot as plt\n",
        "import seaborn as sns\n",
        "import pandas as pd\n",
        "import time\n",
        "from functools import reduce\n",
        "\n",
        "# ✅ Initialize Spark session with optimized configuration for speed\n",
        "spark = SparkSession.builder \\\n",
        "    .appName(\"CN7030 Text Classification - Complete Implementation\") \\\n",
        "    .master(\"local[*]\") \\\n",
        "    .config(\"spark.executor.memory\", \"6g\") \\\n",
        "    .config(\"spark.driver.memory\", \"6g\") \\\n",
        "    .config(\"spark.memory.offHeap.enabled\", \"true\") \\\n",
        "    .config(\"spark.memory.offHeap.size\", \"4g\") \\\n",
        "    .config(\"spark.sql.adaptive.enabled\", \"true\") \\\n",
        "    .config(\"spark.sql.adaptive.coalescePartitions.enabled\", \"true\") \\\n",
        "    .config(\"spark.serializer\", \"org.apache.spark.serializer.KryoSerializer\") \\\n",
        "    .config(\"spark.sql.execution.arrow.pyspark.enabled\", \"true\") \\\n",
        "    .config(\"spark.default.parallelism\", \"8\") \\\n",
        "    .getOrCreate()\n",
        "\n",
        "print(\"✅ Optimized Spark session initialized successfully\")"
      ]
    },
    {
      "cell_type": "markdown",
      "metadata": {
        "id": "wHft1Jht1Qxl"
      },
      "source": [
        "---\n",
        "# **Task 1 - Data Loading and Preprocessing (15 marks)**\n",
        "---"
      ]
    },
    {
      "cell_type": "code",
      "execution_count": 3,
      "metadata": {
        "id": "vvFWoacyjT-k"
      },
      "outputs": [
        {
          "name": "stdout",
          "output_type": "stream",
          "text": [
            "Dataset loaded successfully.\n",
            "Total rows: 278884, Total columns: 18\n",
            "+-------------+--------------------------------------------------+----------------+--------------------------------------------------+---------------------------------------------+--------------------------------------------------+--------------------------------------------------+--------------------------------------+-----+--------+----+--------------------------+-------------+--------------------+-------------------------------+----------------+------------------+------------+\n",
            "|Date received|                                           Product|     Sub-product|                                             Issue|                                    Sub-issue|                      Consumer complaint narrative|                           Company public response|                               Company|State|ZIP code|Tags|Consumer consent provided?|Submitted via|Date sent to company|   Company response to consumer|Timely response?|Consumer disputed?|Complaint ID|\n",
            "+-------------+--------------------------------------------------+----------------+--------------------------------------------------+---------------------------------------------+--------------------------------------------------+--------------------------------------------------+--------------------------------------+-----+--------+----+--------------------------+-------------+--------------------+-------------------------------+----------------+------------------+------------+\n",
            "|     06/05/25|Credit reporting or other personal consumer rep...|Credit reporting|                       Improper use of your report|Reporting company used your report improperly|I am submitting a complaint about fraudulent in...|Company has responded to the consumer and the C...|TRANSUNION INTERMEDIATE HOLDINGS, INC.|   AZ|   850XX|None|          Consent provided|          Web|            06/05/25|Closed with non-monetary relief|             Yes|               N/A|    13919709|\n",
            "|     05/07/25|Credit reporting or other personal consumer rep...|Credit reporting|              Incorrect information on your report|                     Account status incorrect|I am filing this complaint on my own behalf to ...|                                              None|                         EQUIFAX, INC.|   TX|   78239|None|          Consent provided|          Web|            05/07/25|        Closed with explanation|             Yes|               N/A|    13395970|\n",
            "|     06/04/25|Credit reporting or other personal consumer rep...|Credit reporting|                       Improper use of your report|Reporting company used your report improperly|The Fair Credit Reporting Act ( 15 U.S. Code 16...|Company has responded to the consumer and the C...|TRANSUNION INTERMEDIATE HOLDINGS, INC.|   GA|   300XX|None|          Consent provided|          Web|            06/04/25|Closed with non-monetary relief|             Yes|               N/A|    13859067|\n",
            "|     05/27/25|Credit reporting or other personal consumer rep...|Credit reporting|Problem with a company's investigation into an ...|   Problem with personal statement of dispute|These accounts and inquiries are involved in li...|Company has responded to the consumer and the C...|   Experian Information Solutions Inc.|   TX|   78249|None|          Consent provided|          Web|            05/27/25|        Closed with explanation|             Yes|               N/A|    13734048|\n",
            "|     04/11/25|Credit reporting or other personal consumer rep...|Credit reporting|              Incorrect information on your report|          Information belongs to someone else|I am a victim of identity theft. There are seve...|                                              None|                         EQUIFAX, INC.|   IN|   46526|None|          Consent provided|          Web|            04/11/25|Closed with non-monetary relief|             Yes|               N/A|    12949195|\n",
            "+-------------+--------------------------------------------------+----------------+--------------------------------------------------+---------------------------------------------+--------------------------------------------------+--------------------------------------------------+--------------------------------------+-----+--------+----+--------------------------+-------------+--------------------+-------------------------------+----------------+------------------+------------+\n",
            "only showing top 5 rows\n"
          ]
        }
      ],
      "source": [
        "## Student 1: Muhammad Jahanzaib Ali Khan - Data Loading and Basic Preprocessing\n",
        "\n",
        "# Load the dataset\n",
        "df = spark.read.format(\"csv\") \\\n",
        "    .option(\"header\", True) \\\n",
        "    .option(\"multiLine\", True) \\\n",
        "    .option(\"quote\", '\"') \\\n",
        "    .option(\"escape\", '\"') \\\n",
        "    .option(\"inferSchema\", True) \\\n",
        "    .option(\"mode\", \"PERMISSIVE\") \\\n",
        "    .load(\"complaints-2025-08-06_16_14(1).csv\")\n",
        "\n",
        "print(\"Dataset loaded successfully.\")\n",
        "print(f\"Total rows: {df.count()}, Total columns: {len(df.columns)}\")\n",
        "df.show(5, truncate=50)"
      ]
    },
    {
      "cell_type": "code",
      "execution_count": 4,
      "metadata": {
        "id": "DCXEOFjFjgs7"
      },
      "outputs": [
        {
          "name": "stdout",
          "output_type": "stream",
          "text": [
            "Rows before dropping nulls: 278884\n",
            "Rows after dropping nulls: 267991 (3.91% removed)\n"
          ]
        }
      ],
      "source": [
        "# Select relevant columns and handle missing values\n",
        "df_clean = df.select(\"Product\", \"Consumer complaint narrative\")\n",
        "rows_before = df_clean.count()\n",
        "df_clean = df_clean.dropna(subset=[\"Product\", \"Consumer complaint narrative\"])\n",
        "rows_after = df_clean.count()\n",
        "\n",
        "print(f\"Rows before dropping nulls: {rows_before}\")\n",
        "print(f\"Rows after dropping nulls: {rows_after} ({(rows_before - rows_after)/rows_before*100:.2f}% removed)\")"
      ]
    },
    {
      "cell_type": "code",
      "execution_count": 5,
      "metadata": {
        "id": "yZcrKPz4jfrL"
      },
      "outputs": [
        {
          "name": "stdout",
          "output_type": "stream",
          "text": [
            "\n",
            "Labels encoded successfully.\n",
            "+---------------------------------------------------+-----+\n",
            "|Product                                            |label|\n",
            "+---------------------------------------------------+-----+\n",
            "|Credit reporting or other personal consumer reports|0.0  |\n",
            "|Credit reporting or other personal consumer reports|0.0  |\n",
            "|Credit reporting or other personal consumer reports|0.0  |\n",
            "|Credit reporting or other personal consumer reports|0.0  |\n",
            "|Credit reporting or other personal consumer reports|0.0  |\n",
            "+---------------------------------------------------+-----+\n",
            "only showing top 5 rows\n"
          ]
        }
      ],
      "source": [
        "# Encode string labels to numerical labels\n",
        "indexer = StringIndexer(inputCol=\"Product\", outputCol=\"label\")\n",
        "indexer_model = indexer.fit(df_clean)\n",
        "df_encoded = indexer_model.transform(df_clean)\n",
        "\n",
        "print(\"\\nLabels encoded successfully.\")\n",
        "df_encoded.select(\"Product\", \"label\").show(5, truncate=False)"
      ]
    },
    {
      "cell_type": "code",
      "execution_count": 6,
      "metadata": {
        "id": "D3sPTVNLjdxK"
      },
      "outputs": [
        {
          "name": "stdout",
          "output_type": "stream",
          "text": [
            "\n",
            "Class Distribution:\n",
            "   label   count\n",
            "0    0.0  220366\n",
            "1    1.0   23434\n",
            "2    2.0    9264\n",
            "3    3.0    8892\n",
            "4    4.0    3329\n",
            "5    5.0    2706\n"
          ]
        }
      ],
      "source": [
        "# Check class distribution\n",
        "class_counts = df_encoded.groupBy(\"label\").count().orderBy(\"count\", ascending=False).toPandas()\n",
        "print(\"\\nClass Distribution:\")\n",
        "print(class_counts)"
      ]
    },
    {
      "cell_type": "code",
      "execution_count": 7,
      "metadata": {
        "id": "e8OuTN6NjcvD"
      },
      "outputs": [
        {
          "data": {
            "image/png": "[encoded data removed]",
            "text/plain": [
              "<Figure size 1200x500 with 2 Axes>"
            ]
          },
          "metadata": {},
          "output_type": "display_data"
        }
      ],
      "source": [
        "# Visualize class distribution\n",
        "plt.figure(figsize=(12, 5))\n",
        "plt.subplot(1, 2, 1)\n",
        "sns.barplot(x=\"label\", y=\"count\", data=class_counts)\n",
        "plt.title(\"Class Distribution (Bar Chart)\")\n",
        "plt.xlabel(\"Encoded Label\")\n",
        "plt.ylabel(\"Count\")\n",
        "\n",
        "plt.subplot(1, 2, 2)\n",
        "plt.pie(class_counts['count'], labels=class_counts['label'], autopct='%1.1f%%', startangle=140)\n",
        "plt.title(\"Class Distribution (Pie Chart)\")\n",
        "plt.tight_layout()\n",
        "plt.show()"
      ]
    },
    {
      "cell_type": "code",
      "execution_count": 8,
      "metadata": {
        "id": "2Savt9C7jbji"
      },
      "outputs": [
        {
          "name": "stdout",
          "output_type": "stream",
          "text": [
            "\n",
            "Data split complete. Train rows: 187440, Test rows: 80551\n"
          ]
        }
      ],
      "source": [
        "# Split data into train and test sets (70-30 split)\n",
        "train_df, test_df = df_encoded.randomSplit([0.7, 0.3], seed=42)\n",
        "print(f\"\\nData split complete. Train rows: {train_df.count()}, Test rows: {test_df.count()}\")"
      ]
    },
    {
      "cell_type": "code",
      "execution_count": 9,
      "metadata": {
        "id": "0xGUhNCGjank"
      },
      "outputs": [
        {
          "name": "stdout",
          "output_type": "stream",
          "text": [
            "Optimizing dataframe with 8 partitions...\n",
            "Dataframe optimized and cached with 187440 rows.\n",
            "Optimizing dataframe with 4 partitions...\n",
            "Dataframe optimized and cached with 80551 rows.\n"
          ]
        }
      ],
      "source": [
        "# Optimization function for dataframes\n",
        "def optimize_dataframe(df, target_partitions=8, cache=True):\n",
        "    \"\"\"Function to repartition and cache a DataFrame for better performance.\"\"\"\n",
        "    print(f\"Optimizing dataframe with {target_partitions} partitions...\")\n",
        "    df_optimized = df.repartition(target_partitions)\n",
        "    if cache:\n",
        "        df_optimized.cache()\n",
        "        count = df_optimized.count()  # Trigger caching\n",
        "        print(f\"Dataframe optimized and cached with {count} rows.\")\n",
        "    return df_optimized\n",
        "\n",
        "# Apply optimizations\n",
        "train_df_opt = optimize_dataframe(train_df, target_partitions=8)\n",
        "test_df_opt = optimize_dataframe(test_df, target_partitions=4)"
      ]
    },
    {
      "cell_type": "code",
      "execution_count": 10,
      "metadata": {
        "id": "Ax2UqQlDjYIJ"
      },
      "outputs": [
        {
          "name": "stdout",
          "output_type": "stream",
          "text": [
            "\n",
            "=== OVERSAMPLING STRATEGY IMPLEMENTATION ===\n",
            "Major class count: 153962.0\n",
            "Oversampling complete. Training rows before: 187440, Training rows after: 909310\n",
            "Optimizing dataframe with 8 partitions...\n",
            "Dataframe optimized and cached with 909310 rows.\n"
          ]
        },
        {
          "data": {
            "image/png": "[encoded data removed]",
            "text/plain": [
              "<Figure size 1200x500 with 1 Axes>"
            ]
          },
          "metadata": {},
          "output_type": "display_data"
        }
      ],
      "source": [
        "print(\"\\n=== OVERSAMPLING STRATEGY IMPLEMENTATION ===\")\n",
        "\n",
        "# Calculate oversampling ratios\n",
        "train_class_counts = train_df_opt.groupBy(\"label\").count().orderBy(\"count\", ascending=False).toPandas()\n",
        "major_class_count = train_class_counts.iloc[0]['count']\n",
        "print(f\"Major class count: {major_class_count}\")\n",
        "\n",
        "# Full oversampling to balance all classes\n",
        "ratios = train_df_opt.groupBy(\"label\").count().withColumn(\"ratio\", major_class_count / col(\"count\")).select(\"label\", \"ratio\").collect()\n",
        "\n",
        "oversampled_train_df = train_df_opt\n",
        "for row in ratios:\n",
        "    label = row[\"label\"]\n",
        "    ratio = int(row[\"ratio\"])\n",
        "    if ratio > 1:\n",
        "        minority_df = train_df_opt.filter(col(\"label\") == label)\n",
        "        # Duplicate minority class rows\n",
        "        for i in range(ratio - 1):\n",
        "            oversampled_train_df = oversampled_train_df.unionAll(minority_df)\n",
        "\n",
        "print(f\"Oversampling complete. Training rows before: {train_df_opt.count()}, Training rows after: {oversampled_train_df.count()}\")\n",
        "\n",
        "# Optimize oversampled data\n",
        "train_oversampled_opt = optimize_dataframe(oversampled_train_df, target_partitions=8)\n",
        "\n",
        "# Visualize oversampled distribution\n",
        "oversampled_counts = train_oversampled_opt.groupBy(\"label\").count().orderBy(\"count\", ascending=False).toPandas()\n",
        "plt.figure(figsize=(12, 5))\n",
        "sns.barplot(x=\"label\", y=\"count\", data=oversampled_counts)\n",
        "plt.title(\"Class Distribution After Oversampling (Training Set)\")\n",
        "plt.xlabel(\"Encoded Label\")\n",
        "plt.ylabel(\"Count\")\n",
        "plt.show()"
      ]
    },
    {
      "cell_type": "code",
      "execution_count": 11,
      "metadata": {
        "id": "g8Kwsb8gjWTK"
      },
      "outputs": [
        {
          "name": "stdout",
          "output_type": "stream",
          "text": [
            "\n",
            "=== CLASS WEIGHTING STRATEGY IMPLEMENTATION ===\n",
            "Class weights calculated:\n",
            "Label 0.0: Weight 0.2029\n",
            "Label 1.0: Weight 1.8915\n",
            "Label 4.0: Weight 13.6360\n",
            "Label 3.0: Weight 5.0290\n",
            "Label 2.0: Weight 4.7549\n",
            "Label 5.0: Weight 16.5379\n",
            "Optimizing dataframe with 8 partitions...\n",
            "Dataframe optimized and cached with 187440 rows.\n",
            "Class weights added to training data successfully.\n",
            "+---------------------------------------------------+-----+-------------------+\n",
            "|Product                                            |label|classWeight        |\n",
            "+---------------------------------------------------+-----+-------------------+\n",
            "|Credit reporting or other personal consumer reports|0.0  |0.20290721087021474|\n",
            "|Credit reporting or other personal consumer reports|0.0  |0.20290721087021474|\n",
            "|Credit reporting or other personal consumer reports|0.0  |0.20290721087021474|\n",
            "|Credit reporting or other personal consumer reports|0.0  |0.20290721087021474|\n",
            "|Credit reporting or other personal consumer reports|0.0  |0.20290721087021474|\n",
            "+---------------------------------------------------+-----+-------------------+\n",
            "only showing top 5 rows\n"
          ]
        }
      ],
      "source": [
        "print(\"\\n=== CLASS WEIGHTING STRATEGY IMPLEMENTATION ===\")\n",
        "\n",
        "# Calculate class weights for imbalanced dataset\n",
        "class_counts_df = train_df_opt.groupBy(\"label\").count()\n",
        "class_counts_pd = class_counts_df.toPandas()\n",
        "total_samples = class_counts_pd['count'].sum()\n",
        "num_classes = len(class_counts_pd)\n",
        "\n",
        "# Calculate weights: total_samples / (num_classes * count)\n",
        "class_counts_pd['weight'] = total_samples / (num_classes * class_counts_pd['count'])\n",
        "weights_dict = class_counts_pd.set_index('label')['weight'].to_dict()\n",
        "\n",
        "print(\"Class weights calculated:\")\n",
        "for label, weight in weights_dict.items():\n",
        "    print(f\"Label {label}: Weight {weight:.4f}\")\n",
        "\n",
        "# Create mapping expression for weights\n",
        "mapping_expr = create_map([lit(x) for kv in weights_dict.items() for x in kv])\n",
        "\n",
        "# Add classWeight column to training data\n",
        "train_weighted_df = train_df_opt.withColumn(\"classWeight\", mapping_expr[col(\"label\")])\n",
        "train_weighted_opt = optimize_dataframe(train_weighted_df, target_partitions=8)\n",
        "\n",
        "print(\"Class weights added to training data successfully.\")\n",
        "train_weighted_opt.select(\"Product\", \"label\", \"classWeight\").show(5, truncate=False)"
      ]
    },
    {
      "cell_type": "code",
      "execution_count": 12,
      "metadata": {
        "id": "6MGDMO0Wjr6k"
      },
      "outputs": [],
      "source": [
        "# Common preprocessing pipeline for text data\n",
        "def create_text_pipeline():\n",
        "    \"\"\"Create text preprocessing pipeline\"\"\"\n",
        "    tokenizer = Tokenizer(inputCol=\"Consumer complaint narrative\", outputCol=\"words\")\n",
        "    remover = StopWordsRemover(inputCol=\"words\", outputCol=\"filtered_words\")\n",
        "    hashingTF = HashingTF(inputCol=\"filtered_words\", outputCol=\"raw_features\", numFeatures=5000)\n",
        "    idf = IDF(inputCol=\"raw_features\", outputCol=\"features\")\n",
        "    return [tokenizer, remover, hashingTF, idf]"
      ]
    },
    {
      "cell_type": "markdown",
      "metadata": {
        "id": "IRGHM3rOsKvU"
      },
      "source": [
        "---\n",
        "# **Task 2 - Model Selection and Implementation (25 marks)**\n",
        "---\n"
      ]
    },
    {
      "cell_type": "code",
      "execution_count": 16,
      "metadata": {
        "id": "bcyyQT9Mjuwa"
      },
      "outputs": [
        {
          "name": "stdout",
          "output_type": "stream",
          "text": [
            "\n",
            "=== LOGISTIC REGRESSION MODELS (JAHANZAIB) ===\n",
            "1. Training Baseline Logistic Regression...\n",
            "✅ Baseline Logistic Regression model trained\n",
            "2. Training Oversampled Logistic Regression...\n",
            "✅ Oversampled Logistic Regression model trained\n",
            "3. Training Weighted Logistic Regression...\n",
            "✅ Weighted Logistic Regression model trained\n"
          ]
        }
      ],
      "source": [
        "## Student 1: Muhammad Jahanzaib Ali Khan - Logistic Regression Models\n",
        "print(\"\\n=== LOGISTIC REGRESSION MODELS (JAHANZAIB) ===\")\n",
        "\n",
        "# 1. Baseline Logistic Regression (No changes)\n",
        "print(\"1. Training Baseline Logistic Regression...\")\n",
        "text_stages = create_text_pipeline()\n",
        "lr_baseline = LogisticRegression(labelCol=\"label\", featuresCol=\"features\")\n",
        "pipeline_lr_baseline = Pipeline(stages=text_stages + [lr_baseline])\n",
        "\n",
        "# Split training data for validation\n",
        "train_baseline, val_baseline = train_df_opt.randomSplit([0.8, 0.2])\n",
        "model_lr_baseline = pipeline_lr_baseline.fit(train_baseline)\n",
        "print(\"✅ Baseline Logistic Regression model trained\")\n",
        "\n",
        "# 2. Oversampled Logistic Regression\n",
        "print(\"2. Training Oversampled Logistic Regression...\")\n",
        "train_oversampled_split, val_oversampled_split = train_oversampled_opt.randomSplit([0.8, 0.2])\n",
        "lr_oversampled = LogisticRegression(labelCol=\"label\", featuresCol=\"features\" )\n",
        "pipeline_lr_oversampled = Pipeline(stages=text_stages + [lr_oversampled])\n",
        "model_lr_oversampled = pipeline_lr_oversampled.fit(train_oversampled_split)\n",
        "print(\"✅ Oversampled Logistic Regression model trained\")\n",
        "\n",
        "# 3. Weighted Logistic Regression\n",
        "print(\"3. Training Weighted Logistic Regression...\")\n",
        "train_weighted_split, val_weighted_split = train_weighted_opt.randomSplit([0.8, 0.2] )\n",
        "lr_weighted = LogisticRegression(labelCol=\"label\", featuresCol=\"features\", weightCol=\"classWeight\")\n",
        "pipeline_lr_weighted = Pipeline(stages=text_stages + [lr_weighted])\n",
        "model_lr_weighted = pipeline_lr_weighted.fit(train_weighted_split)\n",
        "print(\"✅ Weighted Logistic Regression model trained\")"
      ]
    },
    {
      "cell_type": "code",
      "execution_count": null,
      "metadata": {
        "id": "dNZlDHsuHbPH"
      },
      "outputs": [],
      "source": [
        "## Student 2: Ammad Ali - Random Forest Models\n",
        "print(\"\\n=== RANDOM FOREST MODELS (AMMAD) ===\")\n",
        "\n",
        "# 1. Baseline Random Forest (No changes)\n",
        "print(\"1. Training Baseline Random Forest...\")\n",
        "rf_baseline = RandomForestClassifier(labelCol=\"label\", featuresCol=\"features\", seed=42)\n",
        "pipeline_rf_baseline = Pipeline(stages=text_stages + [rf_baseline])\n",
        "model_rf_baseline = pipeline_rf_baseline.fit(train_baseline)\n",
        "print(\"✅ Baseline Random Forest model trained\")\n",
        "\n",
        "# 2. Oversampled Random Forest\n",
        "print(\"2. Training Oversampled Random Forest...\")\n",
        "rf_oversampled = RandomForestClassifier(labelCol=\"label\", featuresCol=\"features\", seed=42)\n",
        "pipeline_rf_oversampled = Pipeline(stages=text_stages + [rf_oversampled])\n",
        "model_rf_oversampled = pipeline_rf_oversampled.fit(train_oversampled_split)\n",
        "print(\"✅ Oversampled Random Forest model trained\")\n",
        "\n",
        "# 3. Weighted Random Forest\n",
        "print(\"3. Training Weighted Random Forest...\")\n",
        "rf_weighted = RandomForestClassifier(labelCol=\"label\", featuresCol=\"features\", weightCol=\"classWeight\", seed=42)\n",
        "pipeline_rf_weighted = Pipeline(stages=text_stages + [rf_weighted])\n",
        "model_rf_weighted = pipeline_rf_weighted.fit(train_weighted_split)\n",
        "print(\"✅ Weighted Random Forest model trained\")"
      ]
    },
    {
      "cell_type": "code",
      "execution_count": null,
      "metadata": {
        "id": "UmCvlBHMHbha"
      },
      "outputs": [],
      "source": [
        "## Student 3: Hannan - Naive Bayes Models\n",
        "print(\"\\n=== NAIVE BAYES MODELS (HANNAN) ===\")\n",
        "\n",
        "# 1. Baseline Naive Bayes (No changes)\n",
        "print(\"1. Training Baseline Naive Bayes...\")\n",
        "nb_baseline = NaiveBayes(labelCol=\"label\", featuresCol=\"features\")\n",
        "pipeline_nb_baseline = Pipeline(stages=text_stages + [nb_baseline])\n",
        "model_nb_baseline = pipeline_nb_baseline.fit(train_baseline)\n",
        "print(\"✅ Baseline Naive Bayes model trained\")\n",
        "\n",
        "# 2. Oversampled Naive Bayes\n",
        "print(\"2. Training Oversampled Naive Bayes...\")\n",
        "nb_oversampled = NaiveBayes(labelCol=\"label\", featuresCol=\"features\")\n",
        "pipeline_nb_oversampled = Pipeline(stages=text_stages + [nb_oversampled])\n",
        "model_nb_oversampled = pipeline_nb_oversampled.fit(train_oversampled_split)\n",
        "print(\"✅ Oversampled Naive Bayes model trained\")\n",
        "\n",
        "# 3. Weighted Naive Bayes (Note: Naive Bayes doesn't support weightCol, so we use balanced data)\n",
        "print(\"3. Training Naive Bayes on Balanced Data...\")\n",
        "nb_weighted = NaiveBayes(labelCol=\"label\", featuresCol=\"features\")\n",
        "pipeline_nb_weighted = Pipeline(stages=text_stages + [nb_weighted])\n",
        "# Use oversampled data as alternative to weighting for Naive Bayes\n",
        "model_nb_weighted = pipeline_nb_weighted.fit(train_oversampled_split)\n",
        "print(\"✅ Balanced Naive Bayes model trained\")"
      ]
    },
    {
      "cell_type": "markdown",
      "metadata": {
        "id": "jBh-tqvEHmIa"
      },
      "source": [
        "---\n",
        "# **Task 3 - Model Parameter Tuning (20 marks)**\n",
        "---\n"
      ]
    },
    {
      "cell_type": "code",
      "execution_count": null,
      "metadata": {
        "id": "mhLRVi66Hmdo"
      },
      "outputs": [
        {
          "name": "stdout",
          "output_type": "stream",
          "text": [
            "\n",
            "=== PARAMETER TUNING - LOGISTIC REGRESSION (JAHANZAIB) ===\n",
            "Tuning Baseline Logistic Regression...\n",
            "✅ Baseline Logistic Regression tuning completed in 0.87 minutes\n",
            "Tuning Oversampled Logistic Regression...\n"
          ]
        }
      ],
      "source": [
        "## Student 1: Muhammad Jahanzaib Ali Khan - Logistic Regression Tuning\n",
        "print(\"\\n=== PARAMETER TUNING - LOGISTIC REGRESSION (JAHANZAIB) ===\")\n",
        "\n",
        "def tune_logistic_regression(train_data, model_name):\n",
        "    \"\"\"Tune Logistic Regression parameters\"\"\"\n",
        "    print(f\"Tuning {model_name}...\")\n",
        "\n",
        "    if \"weighted\" in model_name.lower():\n",
        "        lr = LogisticRegression(labelCol=\"label\", featuresCol=\"features\", weightCol=\"classWeight\")\n",
        "    else:\n",
        "        lr = LogisticRegression(labelCol=\"label\", featuresCol=\"features\")\n",
        "\n",
        "    pipeline = Pipeline(stages=text_stages + [lr])\n",
        "\n",
        "    paramGrid = ParamGridBuilder() \\\n",
        "        .addGrid(lr.regParam, [0.1, 1.0]) \\\n",
        "        .addGrid(lr.maxIter, [10, 20]) \\\n",
        "        .build()\n",
        "\n",
        "    evaluator = MulticlassClassificationEvaluator(labelCol=\"label\", predictionCol=\"prediction\", metricName=\"f1\")\n",
        "    tvs = TrainValidationSplit(estimator=pipeline, estimatorParamMaps=paramGrid, evaluator=evaluator, trainRatio=0.8)\n",
        "\n",
        "    start_time = time.time()\n",
        "    tvs_model = tvs.fit(train_data)\n",
        "    end_time = time.time()\n",
        "\n",
        "    print(f\"✅ {model_name} tuning completed in {(end_time - start_time)/60:.2f} minutes\")\n",
        "    return tvs_model.bestModel\n",
        "\n",
        "# Tune all Logistic Regression models\n",
        "best_lr_baseline = tune_logistic_regression(train_df_opt, \"Baseline Logistic Regression\")\n",
        "best_lr_oversampled = tune_logistic_regression(train_oversampled_opt, \"Oversampled Logistic Regression\")\n",
        "best_lr_weighted = tune_logistic_regression(train_weighted_opt, \"Weighted Logistic Regression\")\n"
      ]
    },
    {
      "cell_type": "code",
      "execution_count": null,
      "metadata": {
        "id": "hzZ20UCMHtnf"
      },
      "outputs": [],
      "source": [
        "## Student 2: Ammad Ali - Random Forest Tuning\n",
        "print(\"\\n=== PARAMETER TUNING - RANDOM FOREST (AMMAD) ===\")\n",
        "\n",
        "def tune_random_forest(train_data, model_name):\n",
        "    \"\"\"Tune Random Forest parameters\"\"\"\n",
        "    print(f\"Tuning {model_name}...\")\n",
        "\n",
        "    if \"weighted\" in model_name.lower():\n",
        "        rf = RandomForestClassifier(labelCol=\"label\", featuresCol=\"features\", weightCol=\"classWeight\", seed=42)\n",
        "    else:\n",
        "        rf = RandomForestClassifier(labelCol=\"label\", featuresCol=\"features\", seed=42)\n",
        "\n",
        "    pipeline = Pipeline(stages=text_stages + [rf])\n",
        "\n",
        "    paramGrid = ParamGridBuilder() \\\n",
        "        .addGrid(rf.numTrees, [50, 100]) \\\n",
        "        .addGrid(rf.maxDepth, [5, 10]) \\\n",
        "        .build()\n",
        "\n",
        "    evaluator = MulticlassClassificationEvaluator(labelCol=\"label\", predictionCol=\"prediction\", metricName=\"f1\")\n",
        "    tvs = TrainValidationSplit(estimator=pipeline, estimatorParamMaps=paramGrid, evaluator=evaluator, trainRatio=0.8)\n",
        "\n",
        "    start_time = time.time()\n",
        "    tvs_model = tvs.fit(train_data)\n",
        "    end_time = time.time()\n",
        "\n",
        "    print(f\"✅ {model_name} tuning completed in {(end_time - start_time)/60:.2f} minutes\")\n",
        "    return tvs_model.bestModel\n",
        "\n",
        "# Tune all Random Forest models\n",
        "best_rf_baseline = tune_random_forest(train_df_opt, \"Baseline Random Forest\")\n",
        "best_rf_oversampled = tune_random_forest(train_oversampled_opt, \"Oversampled Random Forest\")\n",
        "best_rf_weighted = tune_random_forest(train_weighted_opt, \"Weighted Random Forest\")\n"
      ]
    },
    {
      "cell_type": "code",
      "execution_count": null,
      "metadata": {
        "id": "gDC6hj76HuDB"
      },
      "outputs": [],
      "source": [
        "## Student 3: Hannan - Naive Bayes Tuning\n",
        "print(\"\\n=== PARAMETER TUNING - NAIVE BAYES (HANNAN) ===\")\n",
        "\n",
        "def tune_naive_bayes(train_data, model_name):\n",
        "    \"\"\"Tune Naive Bayes parameters\"\"\"\n",
        "    print(f\"Tuning {model_name}...\")\n",
        "\n",
        "    nb = NaiveBayes(labelCol=\"label\", featuresCol=\"features\")\n",
        "    pipeline = Pipeline(stages=text_stages + [nb])\n",
        "\n",
        "    paramGrid = ParamGridBuilder() \\\n",
        "        .addGrid(nb.smoothing, [0.5, 1.0, 2.0]) \\\n",
        "        .build()\n",
        "\n",
        "    evaluator = MulticlassClassificationEvaluator(labelCol=\"label\", predictionCol=\"prediction\", metricName=\"f1\")\n",
        "    tvs = TrainValidationSplit(estimator=pipeline, estimatorParamMaps=paramGrid, evaluator=evaluator, trainRatio=0.8)\n",
        "\n",
        "    start_time = time.time()\n",
        "    tvs_model = tvs.fit(train_data)\n",
        "    end_time = time.time()\n",
        "\n",
        "    print(f\"✅ {model_name} tuning completed in {(end_time - start_time)/60:.2f} minutes\")\n",
        "    return tvs_model.bestModel\n",
        "\n",
        "# Tune all Naive Bayes models\n",
        "best_nb_baseline = tune_naive_bayes(train_df_opt, \"Baseline Naive Bayes\")\n",
        "best_nb_oversampled = tune_naive_bayes(train_oversampled_opt, \"Oversampled Naive Bayes\")\n",
        "best_nb_weighted = tune_naive_bayes(train_oversampled_opt, \"Balanced Naive Bayes\")\n"
      ]
    },
    {
      "cell_type": "markdown",
      "metadata": {
        "id": "Np9gJPEIHwbG"
      },
      "source": [
        "---\n",
        "# **Task 4 - Model Evaluation and Accuracy Calculation (20 marks)**\n",
        "---"
      ]
    },
    {
      "cell_type": "code",
      "execution_count": null,
      "metadata": {
        "id": "DDBPcvYKkMLr"
      },
      "outputs": [],
      "source": [
        "def evaluate_model(model, test_data, model_name):\n",
        "    \"\"\"Comprehensive model evaluation\"\"\"\n",
        "    print(f\"\\n=== EVALUATING {model_name} ===\")\n",
        "\n",
        "    # Make predictions\n",
        "    predictions = model.transform(test_data)\n",
        "\n",
        "    # Calculate metrics\n",
        "    evaluator_acc = MulticlassClassificationEvaluator(labelCol=\"label\", predictionCol=\"prediction\", metricName=\"accuracy\")\n",
        "    evaluator_f1 = MulticlassClassificationEvaluator(labelCol=\"label\", predictionCol=\"prediction\", metricName=\"f1\")\n",
        "    evaluator_precision = MulticlassClassificationEvaluator(labelCol=\"label\", predictionCol=\"prediction\", metricName=\"weightedPrecision\")\n",
        "    evaluator_recall = MulticlassClassificationEvaluator(labelCol=\"label\", predictionCol=\"prediction\", metricName=\"weightedRecall\")\n",
        "\n",
        "    accuracy = evaluator_acc.evaluate(predictions)\n",
        "    f1_score = evaluator_f1.evaluate(predictions)\n",
        "    precision = evaluator_precision.evaluate(predictions)\n",
        "    recall = evaluator_recall.evaluate(predictions)\n",
        "\n",
        "    print(f\"Accuracy: {accuracy:.4f} ({accuracy*100:.2f}%)\")\n",
        "    print(f\"F1-Score: {f1_score:.4f}\")\n",
        "    print(f\"Precision: {precision:.4f}\")\n",
        "    print(f\"Recall: {recall:.4f}\")\n",
        "\n",
        "    return predictions, accuracy, f1_score, precision, recall"
      ]
    },
    {
      "cell_type": "code",
      "execution_count": null,
      "metadata": {
        "id": "FCVAx1VsHws-"
      },
      "outputs": [],
      "source": [
        "## Student 1: Muhammad Jahanzaib Ali Khan - Logistic Regression Evaluation\n",
        "print(\"\\n=== LOGISTIC REGRESSION EVALUATION (JAHANZAIB) ===\")\n",
        "\n",
        "lr_results = []\n",
        "lr_results.append(evaluate_model(best_lr_baseline, test_df_opt, \"Baseline Logistic Regression\"))\n",
        "lr_results.append(evaluate_model(best_lr_oversampled, test_df_opt, \"Oversampled Logistic Regression\"))\n",
        "lr_results.append(evaluate_model(best_lr_weighted, test_df_opt, \"Weighted Logistic Regression\"))\n"
      ]
    },
    {
      "cell_type": "code",
      "execution_count": null,
      "metadata": {
        "id": "HLkmLxTdH8F7"
      },
      "outputs": [],
      "source": [
        "## Student 2: Ammad Ali - Random Forest Evaluation\n",
        "print(\"\\n=== RANDOM FOREST EVALUATION (AMMAD) ===\")\n",
        "\n",
        "rf_results = []\n",
        "rf_results.append(evaluate_model(best_rf_baseline, test_df_opt, \"Baseline Random Forest\"))\n",
        "rf_results.append(evaluate_model(best_rf_oversampled, test_df_opt, \"Oversampled Random Forest\"))\n",
        "rf_results.append(evaluate_model(best_rf_weighted, test_df_opt, \"Weighted Random Forest\"))\n"
      ]
    },
    {
      "cell_type": "code",
      "execution_count": null,
      "metadata": {
        "id": "g2t1raIYH8V3"
      },
      "outputs": [],
      "source": [
        "## Student 3: Hannan - Naive Bayes Evaluation\n",
        "print(\"\\n=== NAIVE BAYES EVALUATION (HANNAN) ===\")\n",
        "\n",
        "nb_results = []\n",
        "nb_results.append(evaluate_model(best_nb_baseline, test_df_opt, \"Baseline Naive Bayes\"))\n",
        "nb_results.append(evaluate_model(best_nb_oversampled, test_df_opt, \"Oversampled Naive Bayes\"))\n",
        "nb_results.append(evaluate_model(best_nb_weighted, test_df_opt, \"Balanced Naive Bayes\"))\n"
      ]
    },
    {
      "cell_type": "markdown",
      "metadata": {
        "id": "dsERZv2WIB1H"
      },
      "source": [
        "---\n",
        "# **Task 5 - Results Visualization or Printing (5 marks)**\n",
        "---"
      ]
    },
    {
      "cell_type": "code",
      "execution_count": null,
      "metadata": {
        "id": "j04CcL30ILx_"
      },
      "outputs": [],
      "source": [
        "## Student 1: Muhammad Jahanzaib Ali Khan - Confusion Matrices\n",
        "print(\"\\n=== CONFUSION MATRICES VISUALIZATION (JAHANZAIB) ===\")\n",
        "\n",
        "def plot_confusion_matrix(predictions, title):\n",
        "    \"\"\"Plot confusion matrix for predictions\"\"\"\n",
        "    # Convert to pandas for visualization\n",
        "    pred_pd = predictions.select(\"label\", \"prediction\").toPandas()\n",
        "\n",
        "    # Create confusion matrix\n",
        "    from sklearn.metrics import confusion_matrix\n",
        "    cm = confusion_matrix(pred_pd['label'], pred_pd['prediction'])\n",
        "\n",
        "    # Plot\n",
        "    plt.figure(figsize=(8, 6))\n",
        "    sns.heatmap(cm, annot=True, fmt='d', cmap='Blues')\n",
        "    plt.title(f'Confusion Matrix - {title}')\n",
        "    plt.xlabel('Predicted Label')\n",
        "    plt.ylabel('Actual Label')\n",
        "    plt.show()\n",
        "\n",
        "# Plot confusion matrices for Logistic Regression models\n",
        "plot_confusion_matrix(lr_results[0][0], \"Baseline Logistic Regression\")\n",
        "plot_confusion_matrix(lr_results[1][0], \"Oversampled Logistic Regression\")\n",
        "plot_confusion_matrix(lr_results[2][0], \"Weighted Logistic Regression\")"
      ]
    },
    {
      "cell_type": "code",
      "execution_count": null,
      "metadata": {
        "id": "hQDC_KW3IMFQ"
      },
      "outputs": [],
      "source": [
        "## Student 2: Ammad Ali - Performance Comparison Charts\n",
        "print(\"\\n=== PERFORMANCE COMPARISON VISUALIZATION (AMMAD) ===\")\n",
        "\n",
        "# Compile all results\n",
        "all_results = {\n",
        "    'Model': ['LR Baseline', 'LR Oversampled', 'LR Weighted',\n",
        "              'RF Baseline', 'RF Oversampled', 'RF Weighted',\n",
        "              'NB Baseline', 'NB Oversampled', 'NB Balanced'],\n",
        "    'Algorithm': ['Logistic Regression'] * 3 + ['Random Forest'] * 3 + ['Naive Bayes'] * 3,\n",
        "    'Strategy': ['Baseline', 'Oversampling', 'Weighting'] * 3,\n",
        "    'Accuracy': [lr_results[0][1], lr_results[1][1], lr_results[2][1],\n",
        "                rf_results[0][1], rf_results[1][1], rf_results[2][1],\n",
        "                nb_results[0][1], nb_results[1][1], nb_results[2][1]],\n",
        "    'F1_Score': [lr_results[0][2], lr_results[1][2], lr_results[2][2],\n",
        "                rf_results[0][2], rf_results[1][2], rf_results[2][2],\n",
        "                nb_results[0][2], nb_results[1][2], nb_results[2][2]],\n",
        "    'Precision': [lr_results[0][3], lr_results[1][3], lr_results[2][3],\n",
        "                 rf_results[0][3], rf_results[1][3], rf_results[2][3],\n",
        "                 nb_results[0][3], nb_results[1][3], nb_results[2][3]],\n",
        "    'Recall': [lr_results[0][4], lr_results[1][4], lr_results[2][4],\n",
        "              rf_results[0][4], rf_results[1][4], rf_results[2][4],\n",
        "              nb_results[0][4], nb_results[1][4], nb_results[2][4]]\n",
        "}\n",
        "\n",
        "results_df = pd.DataFrame(all_results)\n",
        "\n",
        "# Create comprehensive comparison visualization\n",
        "fig, axes = plt.subplots(2, 2, figsize=(15, 12))\n",
        "metrics = ['Accuracy', 'F1_Score', 'Precision', 'Recall']\n",
        "\n",
        "for i, metric in enumerate(metrics):\n",
        "    ax = axes[i//2, i%2]\n",
        "\n",
        "    # Group by algorithm\n",
        "    lr_data = results_df[results_df['Algorithm'] == 'Logistic Regression'][metric]\n",
        "    rf_data = results_df[results_df['Algorithm'] == 'Random Forest'][metric]\n",
        "    nb_data = results_df[results_df['Algorithm'] == 'Naive Bayes'][metric]\n",
        "\n",
        "    x = ['Baseline', 'Oversampling', 'Weighting']\n",
        "\n",
        "    ax.plot(x, lr_data, marker='o', label='Logistic Regression', linewidth=2)\n",
        "    ax.plot(x, rf_data, marker='s', label='Random Forest', linewidth=2)\n",
        "    ax.plot(x, nb_data, marker='^', label='Naive Bayes', linewidth=2)\n",
        "\n",
        "    ax.set_title(f'{metric} Comparison Across Strategies', fontweight='bold')\n",
        "    ax.set_ylabel(metric)\n",
        "    ax.legend()\n",
        "    ax.grid(True, alpha=0.3)\n",
        "\n",
        "plt.tight_layout()\n",
        "plt.suptitle('Algorithm Performance Comparison Across Class Imbalance Strategies', fontsize=16, fontweight='bold', y=1.02)\n",
        "plt.show()\n"
      ]
    },
    {
      "cell_type": "code",
      "execution_count": null,
      "metadata": {
        "id": "r1wLeCkCIMiE"
      },
      "outputs": [],
      "source": [
        "##3rd student name:\n",
        "# add the code here\n"
      ]
    },
    {
      "cell_type": "markdown",
      "metadata": {
        "id": "rIGDXqDdIQ4U"
      },
      "source": [
        "---\n",
        "# **Task 6 - LSEP Considerations (10 marks)**\n",
        "---"
      ]
    },
    {
      "cell_type": "markdown",
      "metadata": {
        "id": "vuCxxQnYI_FP"
      },
      "source": [
        "# Student 1: **Type the chosen issue**\n",
        "\n",
        "add contribution here ..."
      ]
    },
    {
      "cell_type": "markdown",
      "metadata": {
        "id": "AgLfrAGfJQxF"
      },
      "source": [
        "# Student 2: **Type the chosen issue**\n",
        "\n",
        "add contribution here ..."
      ]
    },
    {
      "cell_type": "markdown",
      "metadata": {
        "id": "w0Vf5UwdJRH9"
      },
      "source": [
        "# Student 3: **Type the chosen issue**\n",
        "\n",
        "add contribution here ..."
      ]
    },
    {
      "cell_type": "markdown",
      "metadata": {
        "id": "mIM6uLApSxi2"
      },
      "source": [
        "---\n",
        "\n",
        "# **Task 7 - Convert ipynb to HTML for Turnitin submission [5 marks]**\n",
        "\n",
        "---\n",
        "\n"
      ]
    },
    {
      "cell_type": "code",
      "execution_count": null,
      "metadata": {
        "id": "ZrQu11N_DCfZ"
      },
      "outputs": [],
      "source": [
        "# install nbconvert (if facing the conversion error)\n",
        "# !pip3 install nbconvert"
      ]
    },
    {
      "cell_type": "code",
      "execution_count": null,
      "metadata": {
        "id": "ReZWnCYdDH66"
      },
      "outputs": [],
      "source": [
        "# convert ipynb to html and submit this HTML file\n",
        "# !jupyter nbconvert --to html Your_Group_ID_CRWK_CN7030_Template.ipynb"
      ]
    },
    {
      "cell_type": "markdown",
      "metadata": {
        "id": "VjPzgSLgRst9"
      },
      "source": []
    }
  ],
  "metadata": {
    "colab": {
      "provenance": []
    },
    "kernelspec": {
      "display_name": "venv",
      "language": "python",
      "name": "python3"
    },
    "language_info": {
      "codemirror_mode": {
        "name": "ipython",
        "version": 3
      },
      "file_extension": ".py",
      "mimetype": "text/x-python",
      "name": "python",
      "nbconvert_exporter": "python",
      "pygments_lexer": "ipython3",
      "version": "3.12.3"
    }
  },
  "nbformat": 4,
  "nbformat_minor": 0
}
