{
  "cells": [
    {
      "cell_type": "markdown",
      "metadata": {
        "id": "Lx9-Fre4FMda"
      },
      "source": [
        "# **Machine Learning on Big Data (CN7030) CRWK 24-25 Term B [60% weighting]**\n",
        "# **Group ID: [Your Group ID]**\n",
        "1.   Student 1: Muhammad Jahanzaib Ali Khan - 2959951\n",
        "2.   Student 2: Ammad Ali - 2850666\n",
        "3.   Student 3: Hannan - 2934637\n",
        "\n",
        "---\n",
        "\n",
        "If you want to add comments on your group work, please write it here for us:"
      ]
    },
    {
      "cell_type": "markdown",
      "metadata": {
        "id": "GdMZR-9QTwG3"
      },
      "source": [
        "[link text](https://)\n",
        "# **Initiate and Configure Spark**"
      ]
    },
    {
      "cell_type": "code",
      "execution_count": null,
      "metadata": {},
      "outputs": [
        {
          "name": "stdout",
          "output_type": "stream",
          "text": [
            "Requirement already satisfied: pyspark in c:\\users\\ammad\\documents\\projects\\personal\\uel\\venv\\lib\\site-packages (4.0.0)\n",
            "Requirement already satisfied: matplotlib in c:\\users\\ammad\\documents\\projects\\personal\\uel\\venv\\lib\\site-packages (3.10.5)\n",
            "Requirement already satisfied: seaborn in c:\\users\\ammad\\documents\\projects\\personal\\uel\\venv\\lib\\site-packages (0.13.2)\n",
            "Requirement already satisfied: pandas in c:\\users\\ammad\\documents\\projects\\personal\\uel\\venv\\lib\\site-packages (2.3.1)\n",
            "Requirement already satisfied: pyarrow in c:\\users\\ammad\\documents\\projects\\personal\\uel\\venv\\lib\\site-packages (21.0.0)\n",
            "Requirement already satisfied: py4j==0.10.9.9 in c:\\users\\ammad\\documents\\projects\\personal\\uel\\venv\\lib\\site-packages (from pyspark) (0.10.9.9)\n",
            "Requirement already satisfied: contourpy>=1.0.1 in c:\\users\\ammad\\documents\\projects\\personal\\uel\\venv\\lib\\site-packages (from matplotlib) (1.3.3)\n",
            "Requirement already satisfied: cycler>=0.10 in c:\\users\\ammad\\documents\\projects\\personal\\uel\\venv\\lib\\site-packages (from matplotlib) (0.12.1)\n",
            "Requirement already satisfied: fonttools>=4.22.0 in c:\\users\\ammad\\documents\\projects\\personal\\uel\\venv\\lib\\site-packages (from matplotlib) (4.59.1)\n",
            "Requirement already satisfied: kiwisolver>=1.3.1 in c:\\users\\ammad\\documents\\projects\\personal\\uel\\venv\\lib\\site-packages (from matplotlib) (1.4.9)\n",
            "Requirement already satisfied: numpy>=1.23 in c:\\users\\ammad\\documents\\projects\\personal\\uel\\venv\\lib\\site-packages (from matplotlib) (2.3.2)\n",
            "Requirement already satisfied: packaging>=20.0 in c:\\users\\ammad\\documents\\projects\\personal\\uel\\venv\\lib\\site-packages (from matplotlib) (25.0)\n",
            "Requirement already satisfied: pillow>=8 in c:\\users\\ammad\\documents\\projects\\personal\\uel\\venv\\lib\\site-packages (from matplotlib) (11.3.0)\n",
            "Requirement already satisfied: pyparsing>=2.3.1 in c:\\users\\ammad\\documents\\projects\\personal\\uel\\venv\\lib\\site-packages (from matplotlib) (3.2.3)\n",
            "Requirement already satisfied: python-dateutil>=2.7 in c:\\users\\ammad\\documents\\projects\\personal\\uel\\venv\\lib\\site-packages (from matplotlib) (2.9.0.post0)\n",
            "Requirement already satisfied: pytz>=2020.1 in c:\\users\\ammad\\documents\\projects\\personal\\uel\\venv\\lib\\site-packages (from pandas) (2025.2)\n",
            "Requirement already satisfied: tzdata>=2022.7 in c:\\users\\ammad\\documents\\projects\\personal\\uel\\venv\\lib\\site-packages (from pandas) (2025.2)\n",
            "Requirement already satisfied: six>=1.5 in c:\\users\\ammad\\documents\\projects\\personal\\uel\\venv\\lib\\site-packages (from python-dateutil>=2.7->matplotlib) (1.17.0)\n",
            "Note: you may need to restart the kernel to use updated packages.\n"
          ]
        },
        {
          "name": "stderr",
          "output_type": "stream",
          "text": [
            "\n",
            "[notice] A new release of pip is available: 24.0 -> 25.2\n",
            "[notice] To update, run: python.exe -m pip install --upgrade pip\n"
          ]
        }
      ],
      "source": [
        "pip install pyspark matplotlib seaborn pandas pyarrow"
      ]
    },
    {
      "cell_type": "code",
      "execution_count": 2,
      "metadata": {
        "colab": {
          "base_uri": "https://localhost:8080/"
        },
        "id": "_z0p88Xtw_3-",
        "outputId": "f922ca12-0ee0-4ae7-8291-c61abc51c4df"
      },
      "outputs": [
        {
          "name": "stdout",
          "output_type": "stream",
          "text": [
            "✅ Optimized Spark session initialized successfully\n"
          ]
        }
      ],
      "source": [
        "from pyspark.sql import SparkSession\n",
        "from pyspark.sql import functions as F\n",
        "from pyspark.ml.feature import StringIndexer\n",
        "import matplotlib.pyplot as plt\n",
        "import seaborn as sns\n",
        "import pandas as pd\n",
        "from pyspark.sql.functions import col\n",
        "import pyspark.sql.functions as F\n",
        "from pyspark.sql.functions import col, explode, array, lit\n",
        "from pyspark.ml.feature import StringIndexer, Tokenizer, StopWordsRemover, HashingTF, IDF\n",
        "from pyspark.ml.classification import RandomForestClassifier\n",
        "from pyspark.ml.evaluation import MulticlassClassificationEvaluator\n",
        "from pyspark.ml.tuning import CrossValidator, ParamGridBuilder\n",
        "from pyspark.ml import Pipeline\n",
        "import matplotlib.pyplot as plt\n",
        "import seaborn as sns\n",
        "import pandas as pd\n",
        "\n",
        "# ✅ Initialize Spark session with optimized configuration for speed\n",
        "spark = SparkSession.builder \\\n",
        "    .appName(\"CN7030 Text Classification with Optimized Performance\") \\\n",
        "    .master(\"local[*]\") \\\n",
        "    .config(\"spark.executor.memory\", \"6g\") \\\n",
        "    .config(\"spark.driver.memory\", \"6g\") \\\n",
        "    .config(\"spark.memory.offHeap.enabled\", \"true\") \\\n",
        "    .config(\"spark.memory.offHeap.size\", \"4g\") \\\n",
        "    .config(\"spark.sql.adaptive.enabled\", \"true\") \\\n",
        "    .config(\"spark.sql.adaptive.coalescePartitions.enabled\", \"true\") \\\n",
        "    .config(\"spark.serializer\", \"org.apache.spark.serializer.KryoSerializer\") \\\n",
        "    .config(\"spark.sql.execution.arrow.pyspark.enabled\", \"true\") \\\n",
        "    .config(\"spark.default.parallelism\", \"8\") \\\n",
        "    .getOrCreate()\n",
        "\n",
        "print(\"✅ Optimized Spark session initialized successfully\")"
      ]
    },
    {
      "cell_type": "markdown",
      "metadata": {
        "id": "wHft1Jht1Qxl"
      },
      "source": [
        "---\n",
        "# **Task 1 - Data Loading and Preprocessing (15 marks)**\n",
        "---"
      ]
    },
    {
      "cell_type": "code",
      "execution_count": 42,
      "metadata": {
        "id": "Y8Ovl2m7Bs_9"
      },
      "outputs": [],
      "source": [
        "# Make sure to update the path to your file\n",
        "df = spark.read.format(\"csv\") \\\n",
        "    .option(\"header\", True) \\\n",
        "    .option(\"multiLine\", True) \\\n",
        "    .option(\"quote\", '\"') \\\n",
        "    .option(\"escape\", '\"') \\\n",
        "    .option(\"inferSchema\", True) \\\n",
        "    .option(\"mode\", \"PERMISSIVE\") \\\n",
        "    .load(\"complaints-2025-08-06_16_14(1).csv\")"
      ]
    },
    {
      "cell_type": "code",
      "execution_count": 43,
      "metadata": {
        "colab": {
          "base_uri": "https://localhost:8080/"
        },
        "id": "jpStLVPABtmW",
        "outputId": "6baecdca-6bc4-44bb-cdc4-02cc79f5684a"
      },
      "outputs": [
        {
          "name": "stdout",
          "output_type": "stream",
          "text": [
            "Total rows: 278884, Total columns: 18\n",
            "root\n",
            " |-- Date received: string (nullable = true)\n",
            " |-- Product: string (nullable = true)\n",
            " |-- Sub-product: string (nullable = true)\n",
            " |-- Issue: string (nullable = true)\n",
            " |-- Sub-issue: string (nullable = true)\n",
            " |-- Consumer complaint narrative: string (nullable = true)\n",
            " |-- Company public response: string (nullable = true)\n",
            " |-- Company: string (nullable = true)\n",
            " |-- State: string (nullable = true)\n",
            " |-- ZIP code: string (nullable = true)\n",
            " |-- Tags: string (nullable = true)\n",
            " |-- Consumer consent provided?: string (nullable = true)\n",
            " |-- Submitted via: string (nullable = true)\n",
            " |-- Date sent to company: string (nullable = true)\n",
            " |-- Company response to consumer: string (nullable = true)\n",
            " |-- Timely response?: string (nullable = true)\n",
            " |-- Consumer disputed?: string (nullable = true)\n",
            " |-- Complaint ID: integer (nullable = true)\n",
            "\n",
            "+-------------+--------------------+----------------+--------------------+--------------------+----------------------------+-----------------------+--------------------+-----+--------+----+--------------------------+-------------+--------------------+----------------------------+----------------+------------------+------------+\n",
            "|Date received|             Product|     Sub-product|               Issue|           Sub-issue|Consumer complaint narrative|Company public response|             Company|State|ZIP code|Tags|Consumer consent provided?|Submitted via|Date sent to company|Company response to consumer|Timely response?|Consumer disputed?|Complaint ID|\n",
            "+-------------+--------------------+----------------+--------------------+--------------------+----------------------------+-----------------------+--------------------+-----+--------+----+--------------------------+-------------+--------------------+----------------------------+----------------+------------------+------------+\n",
            "|     06/05/25|Credit reporting ...|Credit reporting|Improper use of y...|Reporting company...|        I am submitting a...|   Company has respo...|TRANSUNION INTERM...|   AZ|   850XX|None|          Consent provided|          Web|            06/05/25|        Closed with non-m...|             Yes|               N/A|    13919709|\n",
            "|     05/07/25|Credit reporting ...|Credit reporting|Incorrect informa...|Account status in...|        I am filing this ...|                   None|       EQUIFAX, INC.|   TX|   78239|None|          Consent provided|          Web|            05/07/25|        Closed with expla...|             Yes|               N/A|    13395970|\n",
            "|     06/04/25|Credit reporting ...|Credit reporting|Improper use of y...|Reporting company...|        The Fair Credit R...|   Company has respo...|TRANSUNION INTERM...|   GA|   300XX|None|          Consent provided|          Web|            06/04/25|        Closed with non-m...|             Yes|               N/A|    13859067|\n",
            "|     05/27/25|Credit reporting ...|Credit reporting|Problem with a co...|Problem with pers...|        These accounts an...|   Company has respo...|Experian Informat...|   TX|   78249|None|          Consent provided|          Web|            05/27/25|        Closed with expla...|             Yes|               N/A|    13734048|\n",
            "|     04/11/25|Credit reporting ...|Credit reporting|Incorrect informa...|Information belon...|        I am a victim of ...|                   None|       EQUIFAX, INC.|   IN|   46526|None|          Consent provided|          Web|            04/11/25|        Closed with non-m...|             Yes|               N/A|    12949195|\n",
            "+-------------+--------------------+----------------+--------------------+--------------------+----------------------------+-----------------------+--------------------+-----+--------+----+--------------------------+-------------+--------------------+----------------------------+----------------+------------------+------------+\n",
            "only showing top 5 rows\n"
          ]
        }
      ],
      "source": [
        "print(f\"Total rows: {df.count()}, Total columns: {len(df.columns)}\")\n",
        "df.printSchema()\n",
        "df.show(5)"
      ]
    },
    {
      "cell_type": "code",
      "execution_count": 40,
      "metadata": {
        "colab": {
          "base_uri": "https://localhost:8080/",
          "height": 952
        },
        "id": "PGSmfAKdnEVv",
        "outputId": "c75807f9-4199-47b4-da95-1447a6e8eba0"
      },
      "outputs": [
        {
          "name": "stdout",
          "output_type": "stream",
          "text": [
            "Rows before dropping nulls: 267991\n",
            "Rows after dropping nulls: 267991 (0.00% removed)\n",
            "\n",
            "Data split. Train rows: 187440, Test rows: 80551\n",
            "\n",
            "Labels encoded based on training data vocabulary.\n",
            "+---------------------------+-----+\n",
            "|Product                    |label|\n",
            "+---------------------------+-----+\n",
            "|Checking or savings account|2.0  |\n",
            "|Checking or savings account|2.0  |\n",
            "|Checking or savings account|2.0  |\n",
            "|Checking or savings account|2.0  |\n",
            "|Checking or savings account|2.0  |\n",
            "+---------------------------+-----+\n",
            "only showing top 5 rows\n",
            "\n",
            "Addressing class imbalance with oversampling on the training set...\n",
            "Oversampling complete. Training rows before: 187440, Training rows after: 909310\n"
          ]
        },
        {
          "data": {
            "image/png": "[encoded data removed]",
            "text/plain": [
              "<Figure size 1200x500 with 1 Axes>"
            ]
          },
          "metadata": {},
          "output_type": "display_data"
        },
        {
          "name": "stdout",
          "output_type": "stream",
          "text": [
            "Optimizing dataframe with 8 partitions...\n",
            "Dataframe optimized and cached with 909310 rows.\n",
            "Optimizing dataframe with 4 partitions...\n",
            "Dataframe optimized and cached with 80551 rows.\n",
            "\n",
            "Final Train rows: 909310, Final Test rows: 80551\n"
          ]
        }
      ],
      "source": [
        "from pyspark.sql import SparkSession\n",
        "from pyspark.sql.functions import col, explode, array, lit\n",
        "from pyspark.ml.feature import StringIndexer\n",
        "import matplotlib.pyplot as plt\n",
        "import seaborn as sns\n",
        "import pandas as pd\n",
        "\n",
        "# Assume 'spark' session and 'df' dataframe are already initialized and loaded\n",
        "# The initial dataframe 'df' should be the original, raw data.\n",
        "\n",
        "# --- 1.1 Data Preparation (Cleaning) ---\n",
        "# Select relevant columns and drop nulls\n",
        "df = df.select(\"Product\", \"Consumer complaint narrative\")\n",
        "rows_before = df.count()\n",
        "df = df.dropna(subset=[\"Product\", \"Consumer complaint narrative\"])\n",
        "rows_after = df.count()\n",
        "print(f\"Rows before dropping nulls: {rows_before}\")\n",
        "print(f\"Rows after dropping nulls: {rows_after} ({(rows_before - rows_after)/rows_before*100:.2f}% removed)\")\n",
        "\n",
        "# --- 1.2 Split Data Before Any Processing to Prevent Leakage ---\n",
        "# Split the dataframe into train and test sets.\n",
        "train_df, test_df = df.randomSplit([0.7, 0.3], seed=42)\n",
        "print(f\"\\nData split. Train rows: {train_df.count()}, Test rows: {test_df.count()}\")\n",
        "\n",
        "# --- 1.3 Encode String Labels to Numerical Labels ---\n",
        "# Fit the indexer ONLY on the training data to prevent data leakage from the test set.\n",
        "indexer = StringIndexer(inputCol=\"Product\", outputCol=\"label\")\n",
        "indexer_model = indexer.fit(train_df)\n",
        "\n",
        "# Transform both the training and test sets using the fitted indexer model.\n",
        "train_df = indexer_model.transform(train_df)\n",
        "test_df = indexer_model.transform(test_df)\n",
        "print(\"\\nLabels encoded based on training data vocabulary.\")\n",
        "train_df.select(\"Product\", \"label\").show(5, truncate=False)\n",
        "\n",
        "# --- 1.4 Address Class Imbalance with Oversampling (on TRAINING data only) ---\n",
        "print(\"\\nAddressing class imbalance with oversampling on the training set...\")\n",
        "train_class_counts = train_df.groupBy(\"label\").count().orderBy(\"count\", ascending=False).toPandas()\n",
        "major_class_count = train_class_counts.iloc[0]['count']\n",
        "ratios = train_df.groupBy(\"label\").count().withColumn(\"ratio\", major_class_count / col(\"count\")).select(\"label\", \"ratio\").collect()\n",
        "\n",
        "oversampled_train_df = train_df\n",
        "for row in ratios:\n",
        "    label = row[\"label\"]\n",
        "    ratio = int(row[\"ratio\"])\n",
        "    if ratio > 1:\n",
        "        minority_df = train_df.filter(col(\"label\") == label)\n",
        "        # Duplicate the minority class rows to balance the dataset\n",
        "        oversampled_train_df = oversampled_train_df.unionAll(minority_df.withColumn(\"dummy\", explode(array([lit(i) for i in range(ratio - 1)]))).drop(\"dummy\"))\n",
        "\n",
        "print(f\"Oversampling complete. Training rows before: {train_df.count()}, Training rows after: {oversampled_train_df.count()}\")\n",
        "\n",
        "# --- 1.5 Visualize Class Distribution (on the oversampled training data) ---\n",
        "oversampled_counts = oversampled_train_df.groupBy(\"label\").count().orderBy(\"count\", ascending=False).toPandas()\n",
        "plt.figure(figsize=(12, 5))\n",
        "sns.barplot(x=\"label\", y=\"count\", data=oversampled_counts)\n",
        "plt.title(\"Class Distribution After Oversampling (Training Set)\")\n",
        "plt.xlabel(\"Encoded Label\")\n",
        "plt.ylabel(\"Count\")\n",
        "plt.show()\n",
        "\n",
        "# --- 1.6 Optimize Partitions ---\n",
        "def optimize_dataframe(df, target_partitions=8, cache=True):\n",
        "    \"\"\"Function to repartition and cache a DataFrame.\"\"\"\n",
        "    print(f\"Optimizing dataframe with {target_partitions} partitions...\")\n",
        "    df_optimized = df.repartition(target_partitions)\n",
        "    if cache:\n",
        "        df_optimized.cache()\n",
        "        count = df_optimized.count() # Trigger caching\n",
        "        print(f\"Dataframe optimized and cached with {count} rows.\")\n",
        "    return df_optimized\n",
        "\n",
        "# Optimize the oversampled training set and the untouched test set\n",
        "train_df_opt = optimize_dataframe(oversampled_train_df, target_partitions=8)\n",
        "test_df_opt = optimize_dataframe(test_df, target_partitions=4)\n",
        "\n",
        "print(f\"\\nFinal Train rows: {train_df_opt.count()}, Final Test rows: {test_df_opt.count()}\")"
      ]
    },
    {
      "cell_type": "markdown",
      "metadata": {
        "id": "11y7bYYo19jD"
      },
      "source": [
        "# **Undersampling**"
      ]
    },
    {
      "cell_type": "code",
      "execution_count": 28,
      "metadata": {
        "colab": {
          "base_uri": "https://localhost:8080/",
          "height": 648
        },
        "id": "AlMA3VOY1jS7",
        "outputId": "1b50838d-b51c-4aab-abb9-6dfc38c23086"
      },
      "outputs": [
        {
          "name": "stdout",
          "output_type": "stream",
          "text": [
            "\n",
            "Addressing class imbalance with undersampling on the training set...\n",
            "Undersampling complete. Training rows before: 187440, Training rows after: 11415\n"
          ]
        },
        {
          "data": {
            "image/png": "[encoded data removed]",
            "text/plain": [
              "<Figure size 1200x500 with 1 Axes>"
            ]
          },
          "metadata": {},
          "output_type": "display_data"
        },
        {
          "name": "stdout",
          "output_type": "stream",
          "text": [
            "Optimizing dataframe with 8 partitions...\n",
            "Dataframe optimized and cached with 11415 rows.\n",
            "Optimizing dataframe with 4 partitions...\n",
            "Dataframe optimized and cached with 80551 rows.\n",
            "\n",
            "Final Undersampled Train rows: 11415, Final Undersampled Test rows: 80551\n"
          ]
        }
      ],
      "source": [
        "from pyspark.sql import SparkSession\n",
        "from pyspark.sql import functions as F\n",
        "import matplotlib.pyplot as plt\n",
        "import seaborn as sns\n",
        "import pandas as pd\n",
        "\n",
        "# Assume 'spark' session, 'train_df', and 'test_df' are already initialized.\n",
        "# 'train_df' and 'test_df' are the dataframes after the initial 70/30 split and label encoding.\n",
        "\n",
        "# This function definition is included for completeness as it's used below.\n",
        "def optimize_dataframe(df, target_partitions=8, cache=True):\n",
        "    \"\"\"Function to repartition and cache a DataFrame.\"\"\"\n",
        "    print(f\"Optimizing dataframe with {target_partitions} partitions...\")\n",
        "    df_optimized = df.repartition(target_partitions)\n",
        "    if cache:\n",
        "        df_optimized.cache()\n",
        "        count = df_optimized.count() # Trigger caching\n",
        "        print(f\"Dataframe optimized and cached with {count} rows.\")\n",
        "    return df_optimized\n",
        "\n",
        "# --- 2.1 Undersampling on TRAINING data only ---\n",
        "print(\"\\nAddressing class imbalance with undersampling on the training set...\")\n",
        "\n",
        "# Get the count of each class in training set\n",
        "train_class_counts_pd = train_df.groupBy(\"label\").count().orderBy(\"count\").toPandas()\n",
        "minor_class_count = train_class_counts_pd.iloc[0]['count']\n",
        "\n",
        "# Create sampling fractions for each class\n",
        "fractions = {\n",
        "    row['label']: float(minor_class_count) / row['count']\n",
        "    if row['count'] > minor_class_count else 1.0\n",
        "    for _, row in train_class_counts_pd.iterrows()\n",
        "}\n",
        "\n",
        "# Apply stratified sampling in one shot\n",
        "undersampled_train_df = train_df.sampleBy(\"label\", fractions, seed=42)\n",
        "\n",
        "print(f\"Undersampling complete. Training rows before: {train_df.count()}, Training rows after: {undersampled_train_df.count()}\")\n",
        "\n",
        "# --- 2.2 Visualize Class Distribution (on the undersampled training data) ---\n",
        "undersampled_counts = undersampled_train_df.groupBy(\"label\").count().orderBy(\"count\", ascending=False).toPandas()\n",
        "\n",
        "plt.figure(figsize=(12, 5))\n",
        "sns.barplot(x=\"label\", y=\"count\", data=undersampled_counts)\n",
        "plt.title(\"Class Distribution After Undersampling (Training Set)\")\n",
        "plt.xlabel(\"Encoded Label\")\n",
        "plt.ylabel(\"Count\")\n",
        "plt.show()\n",
        "\n",
        "# --- 2.3 Optimize Partitions for Undersampled Data ---\n",
        "train_df_undersampled_opt = optimize_dataframe(undersampled_train_df, target_partitions=8)\n",
        "test_df_undersampled_opt = optimize_dataframe(test_df, target_partitions=4)\n",
        "\n",
        "print(f\"\\nFinal Undersampled Train rows: {train_df_undersampled_opt.count()}, Final Undersampled Test rows: {test_df_undersampled_opt.count()}\")"
      ]
    },
    {
      "cell_type": "markdown",
      "metadata": {
        "id": "S26Z2g8A13jS"
      },
      "source": [
        "# **Class Weighting**"
      ]
    },
    {
      "cell_type": "code",
      "execution_count": 29,
      "metadata": {
        "colab": {
          "base_uri": "https://localhost:8080/"
        },
        "id": "Wik2UDAm1ncP",
        "outputId": "1e5040ec-b8a5-4307-8e6b-79bc9439ec1c"
      },
      "outputs": [
        {
          "name": "stdout",
          "output_type": "stream",
          "text": [
            "\n",
            "Calculating class weights for the training set...\n",
            "Class weights calculated and added as a new column.\n",
            "+---------------------------+-----+-----------------+\n",
            "|Product                    |label|classWeight      |\n",
            "+---------------------------+-----+-----------------+\n",
            "|Checking or savings account|2.0  |4.754946727549467|\n",
            "|Checking or savings account|2.0  |4.754946727549467|\n",
            "|Checking or savings account|2.0  |4.754946727549467|\n",
            "|Checking or savings account|2.0  |4.754946727549467|\n",
            "|Checking or savings account|2.0  |4.754946727549467|\n",
            "+---------------------------+-----+-----------------+\n",
            "only showing top 5 rows\n"
          ]
        },
        {
          "data": {
            "image/png": "[encoded data removed]",
            "text/plain": [
              "<Figure size 1200x500 with 1 Axes>"
            ]
          },
          "metadata": {},
          "output_type": "display_data"
        },
        {
          "name": "stdout",
          "output_type": "stream",
          "text": [
            "Optimizing dataframe with 8 partitions...\n",
            "Dataframe optimized and cached with 187440 rows.\n",
            "Optimizing dataframe with 4 partitions...\n",
            "Dataframe optimized and cached with 80551 rows.\n",
            "\n",
            "Final Class Weighted Train rows: 187440, Final Class Weighted Test rows: 80551\n"
          ]
        }
      ],
      "source": [
        "from pyspark.sql import SparkSession\n",
        "from pyspark.sql import functions as F\n",
        "import matplotlib.pyplot as plt\n",
        "import seaborn as sns\n",
        "import pandas as pd\n",
        "\n",
        "# Assume 'spark' session, 'train_df', and 'test_df' are already initialized.\n",
        "# 'train_df' and 'test_df' are the dataframes after the initial 70/30 split and label encoding.\n",
        "\n",
        "# This function definition is included for completeness as it's used below.\n",
        "def optimize_dataframe(df, target_partitions=8, cache=True):\n",
        "    \"\"\"Function to repartition and cache a DataFrame.\"\"\"\n",
        "    print(f\"Optimizing dataframe with {target_partitions} partitions...\")\n",
        "    df_optimized = df.repartition(target_partitions)\n",
        "    if cache:\n",
        "        df_optimized.cache()\n",
        "        count = df_optimized.count() # Trigger caching\n",
        "        print(f\"Dataframe optimized and cached with {count} rows.\")\n",
        "    return df_optimized\n",
        "\n",
        "# --- 3.1 Class Weighting (no modification to the dataset size) ---\n",
        "print(\"\\nCalculating class weights for the training set...\")\n",
        "\n",
        "# Calculate class counts\n",
        "class_counts_df = train_df.groupBy(\"label\").count()\n",
        "class_counts_pd = class_counts_df.toPandas()\n",
        "\n",
        "total_samples = class_counts_pd['count'].sum()\n",
        "num_classes = len(class_counts_pd)\n",
        "\n",
        "# Calculate weights: total_samples / (num_classes * count)\n",
        "class_counts_pd['weight'] = total_samples / (num_classes * class_counts_pd['count'])\n",
        "\n",
        "# Convert to dict {label: weight}\n",
        "weights_dict = class_counts_pd.set_index('label')['weight'].to_dict()\n",
        "\n",
        "# Broadcast weights to executors (more efficient than Python UDF)\n",
        "mapping_expr = F.create_map([F.lit(x) for kv in weights_dict.items() for x in kv])\n",
        "\n",
        "# Add classWeight column using Spark expression\n",
        "train_df_weights = train_df.withColumn(\"classWeight\", mapping_expr[F.col(\"label\")])\n",
        "\n",
        "print(\"Class weights calculated and added as a new column.\")\n",
        "train_df_weights.select(\"Product\", \"label\", \"classWeight\").show(5, truncate=False)\n",
        "\n",
        "# Visualize the original imbalanced class distribution\n",
        "plt.figure(figsize=(12, 5))\n",
        "sns.barplot(x=\"label\", y=\"count\", data=class_counts_pd)\n",
        "plt.title(\"Original Class Distribution (Training Set)\")\n",
        "plt.xlabel(\"Encoded Label\")\n",
        "plt.ylabel(\"Count\")\n",
        "plt.show()\n",
        "\n",
        "# --- 3.2 Optimize Partitions for Class Weighted Data ---\n",
        "train_df_weights_opt = optimize_dataframe(train_df_weights, target_partitions=8)\n",
        "test_df_weights_opt = optimize_dataframe(test_df, target_partitions=4)\n",
        "\n",
        "print(f\"\\nFinal Class Weighted Train rows: {train_df_weights_opt.count()}, Final Class Weighted Test rows: {test_df_weights_opt.count()}\")"
      ]
    },
    {
      "cell_type": "markdown",
      "metadata": {
        "id": "IRGHM3rOsKvU"
      },
      "source": [
        "---\n",
        "# **Task 2 - Model Selection and Implementation (25 marks)**\n",
        "---\n"
      ]
    },
    {
      "cell_type": "code",
      "execution_count": 30,
      "metadata": {
        "colab": {
          "base_uri": "https://localhost:8080/"
        },
        "id": "6oAJuyTBsRO-",
        "outputId": "bd46549d-7bad-441b-a33f-e269e21e5ba9"
      },
      "outputs": [
        {
          "name": "stdout",
          "output_type": "stream",
          "text": [
            "Oversampled data split complete.\n",
            "Training set size: 727768\n",
            "Validation set size: 181542\n",
            "\n",
            "ML Pipeline for Oversampling created and trained successfully.\n",
            "Pipeline Stages: ['Tokenizer', 'StopWordsRemover', 'HashingTF', 'IDF', 'RandomForestClassifier']\n"
          ]
        }
      ],
      "source": [
        "from pyspark.ml.feature import Tokenizer, StopWordsRemover, HashingTF, IDF\n",
        "from pyspark.ml.classification import RandomForestClassifier\n",
        "from pyspark.ml import Pipeline\n",
        "\n",
        "# =================================================================\n",
        "# ## Task 2: Model Implementation (Oversampling)\n",
        "# =================================================================\n",
        "# ## 2nd student name: Ammad Ali\n",
        "\n",
        "# --- 2.0 Data Splitting for Validation ---\n",
        "# Split the oversampled training data into training (80%) and validation (20%) sets\n",
        "(train_oversampled, validation_oversampled) = train_df_opt.randomSplit([0.8, 0.2], seed=42)\n",
        "\n",
        "print(\"Oversampled data split complete.\")\n",
        "print(f\"Training set size: {train_oversampled.count()}\")\n",
        "print(f\"Validation set size: {validation_oversampled.count()}\")\n",
        "\n",
        "\n",
        "# --- 2.1 Feature Engineering Pipeline for Text ---\n",
        "# Stage 1: Tokenize the complaint text\n",
        "tokenizer = Tokenizer(inputCol=\"Consumer complaint narrative\", outputCol=\"words\")\n",
        "# Stage 2: Remove common stop words\n",
        "remover = StopWordsRemover(inputCol=\"words\", outputCol=\"filtered_words\")\n",
        "# Stage 3: Convert words to feature vectors using HashingTF\n",
        "hashingTF = HashingTF(inputCol=\"filtered_words\", outputCol=\"raw_features\", numFeatures=5000)\n",
        "# Stage 4: Apply Inverse Document Frequency (IDF) to scale the features\n",
        "idf = IDF(inputCol=\"raw_features\", outputCol=\"features\")\n",
        "\n",
        "# --- 2.2 Model Selection: Random Forest ---\n",
        "# Stage 5: Define the Random Forest classifier\n",
        "rf = RandomForestClassifier(labelCol=\"label\", featuresCol=\"features\", seed=42)\n",
        "\n",
        "# --- 2.3 Create and Run the Full ML Pipeline ---\n",
        "# Combine all stages into a single pipeline\n",
        "pipeline_oversampled = Pipeline(stages=[tokenizer, remover, hashingTF, idf, rf])\n",
        "\n",
        "# Train the model\n",
        "model_oversampled = pipeline_oversampled.fit(train_oversampled)\n",
        "\n",
        "# Make predictions on the validation data\n",
        "predictions_oversampled = model_oversampled.transform(validation_oversampled)\n",
        "\n",
        "print(\"\\nML Pipeline for Oversampling created and trained successfully.\")\n",
        "print(\"Pipeline Stages:\", [stage.__class__.__name__ for stage in pipeline_oversampled.getStages()])"
      ]
    },
    {
      "cell_type": "code",
      "execution_count": 31,
      "metadata": {
        "id": "OffDIOb34Jx4"
      },
      "outputs": [
        {
          "name": "stdout",
          "output_type": "stream",
          "text": [
            "Undersampled data split complete.\n",
            "Training set size: 9186\n",
            "Validation set size: 2229\n",
            "\n",
            "ML Pipeline for Undersampling created and trained successfully.\n",
            "Pipeline Stages: ['Tokenizer', 'StopWordsRemover', 'HashingTF', 'IDF', 'RandomForestClassifier']\n"
          ]
        }
      ],
      "source": [
        "from pyspark.ml.feature import Tokenizer, StopWordsRemover, HashingTF, IDF\n",
        "from pyspark.ml.classification import RandomForestClassifier\n",
        "from pyspark.ml import Pipeline\n",
        "\n",
        "# =================================================================\n",
        "# ## Task 2: Model Implementation (Undersampling)\n",
        "# =================================================================\n",
        "# ## 2nd student name: Ammad Ali\n",
        "\n",
        "# Assume 'train_df_undersampled_opt' is available from the previous script.\n",
        "\n",
        "# --- 2.0 Data Splitting ---\n",
        "# Split the undersampled training data into training (80%) and validation (20%) sets\n",
        "(train_undersampled, validation_undersampled) = train_df_undersampled_opt.randomSplit([0.8, 0.2], seed=42)\n",
        "\n",
        "print(\"Undersampled data split complete.\")\n",
        "print(f\"Training set size: {train_undersampled.count()}\")\n",
        "print(f\"Validation set size: {validation_undersampled.count()}\")\n",
        "\n",
        "# --- 2.1 Feature Engineering Pipeline for Text ---\n",
        "# Stage 1: Tokenize the complaint text\n",
        "tokenizer = Tokenizer(inputCol=\"Consumer complaint narrative\", outputCol=\"words\")\n",
        "# Stage 2: Remove common stop words\n",
        "remover = StopWordsRemover(inputCol=\"words\", outputCol=\"filtered_words\")\n",
        "# Stage 3: Convert words to feature vectors using HashingTF\n",
        "hashingTF = HashingTF(inputCol=\"filtered_words\", outputCol=\"raw_features\", numFeatures=5000)\n",
        "# Stage 4: Apply Inverse Document Frequency (IDF) to scale the features\n",
        "idf = IDF(inputCol=\"raw_features\", outputCol=\"features\")\n",
        "\n",
        "# --- 2.2 Model Selection: Random Forest ---\n",
        "# Stage 5: Define the Random Forest classifier\n",
        "rf = RandomForestClassifier(labelCol=\"label\", featuresCol=\"features\", seed=42)\n",
        "\n",
        "# --- 2.3 Create and Run the Full ML Pipeline ---\n",
        "# Combine all stages into a single pipeline\n",
        "pipeline_undersampled = Pipeline(stages=[tokenizer, remover, hashingTF, idf, rf])\n",
        "\n",
        "# Train the model\n",
        "model_undersampled = pipeline_undersampled.fit(train_undersampled)\n",
        "\n",
        "# Make predictions on the validation data\n",
        "predictions_undersampled = model_undersampled.transform(validation_undersampled)\n",
        "\n",
        "print(\"\\nML Pipeline for Undersampling created and trained successfully.\")\n",
        "print(\"Pipeline Stages:\", [stage.__class__.__name__ for stage in pipeline_undersampled.getStages()])"
      ]
    },
    {
      "cell_type": "code",
      "execution_count": null,
      "metadata": {
        "id": "FdfjmfPc4Lmb"
      },
      "outputs": [
        {
          "name": "stdout",
          "output_type": "stream",
          "text": [
            "Weighted data split complete.\n",
            "Training set size: 150196\n",
            "Validation set size: 37244\n",
            "\n",
            "ML Pipeline for Class Weighting created and trained successfully.\n",
            "Pipeline Stages: ['Tokenizer', 'StopWordsRemover', 'HashingTF', 'IDF', 'RandomForestClassifier']\n"
          ]
        }
      ],
      "source": [
        "from pyspark.ml.feature import Tokenizer, StopWordsRemover, HashingTF, IDF\n",
        "from pyspark.ml.classification import RandomForestClassifier\n",
        "from pyspark.ml import Pipeline\n",
        "\n",
        "# =================================================================\n",
        "# ## Task 2: Model Implementation (Class Weighting)\n",
        "# =================================================================\n",
        "# ## 2nd student name: Ammad Ali\n",
        "\n",
        "# Assume 'train_df_weights_opt' is available from the previous script.\n",
        "\n",
        "# --- 2.0 Data Splitting ---\n",
        "(train_weighted, validation_weighted) = train_df_weights_opt.randomSplit([0.8, 0.2], seed=42)\n",
        "\n",
        "print(\"Weighted data split complete.\")\n",
        "print(f\"Training set size: {train_weighted.count()}\")\n",
        "print(f\"Validation set size: {validation_weighted.count()}\")\n",
        "\n",
        "# --- 2.1 Feature Engineering Pipeline for Text ---\n",
        "tokenizer = Tokenizer(inputCol=\"Consumer complaint narrative\", outputCol=\"words\")\n",
        "remover = StopWordsRemover(inputCol=\"words\", outputCol=\"filtered_words\")\n",
        "hashingTF = HashingTF(inputCol=\"filtered_words\", outputCol=\"raw_features\", numFeatures=5000)\n",
        "idf = IDF(inputCol=\"raw_features\", outputCol=\"features\")\n",
        "\n",
        "# --- 2.2 Model Selection: Random Forest with Class Weights ---\n",
        "rf_weighted = RandomForestClassifier(\n",
        "    labelCol=\"label\",\n",
        "    featuresCol=\"features\",\n",
        "    weightCol=\"classWeight\",   # ✅ Telling the model to use the weight column\n",
        "    seed=42\n",
        ")\n",
        "\n",
        "# --- 2.3 Create and Run the Full ML Pipeline ---\n",
        "pipeline_weighted = Pipeline(stages=[tokenizer, remover, hashingTF, idf, rf_weighted])\n",
        "\n",
        "# Train the model\n",
        "model_weighted = pipeline_weighted.fit(train_weighted)\n",
        "\n",
        "# Make predictions on the validation data\n",
        "predictions_weighted = model_weighted.transform(validation_weighted)\n",
        "\n",
        "print(\"\\nML Pipeline for Class Weighting created and trained successfully.\")\n",
        "print(\"Pipeline Stages:\", [stage.__class__.__name__ for stage in pipeline_weighted.getStages()])"
      ]
    },
    {
      "cell_type": "code",
      "execution_count": null,
      "metadata": {
        "id": "dNZlDHsuHbPH"
      },
      "outputs": [],
      "source": []
    },
    {
      "cell_type": "code",
      "execution_count": null,
      "metadata": {},
      "outputs": [],
      "source": []
    },
    {
      "cell_type": "code",
      "execution_count": null,
      "metadata": {
        "id": "UmCvlBHMHbha"
      },
      "outputs": [],
      "source": []
    },
    {
      "cell_type": "markdown",
      "metadata": {
        "id": "jBh-tqvEHmIa"
      },
      "source": [
        "---\n",
        "# **Task 3 - Model Parameter Tuning (20 marks)**\n",
        "---\n"
      ]
    },
    {
      "cell_type": "code",
      "execution_count": 33,
      "metadata": {
        "colab": {
          "background_save": true,
          "base_uri": "https://localhost:8080/"
        },
        "id": "mhLRVi66Hmdo",
        "outputId": "8bff1c65-53e0-4fc5-e202-a837ad4b74cd"
      },
      "outputs": [
        {
          "name": "stdout",
          "output_type": "stream",
          "text": [
            "\n",
            "Starting model tuning for OVERSAMPLED data with TrainValidationSplit... ⏳\n",
            "Oversampling model tuning completed. ✅\n",
            "\n",
            "Best model for oversampled data extracted from TrainValidationSplit.\n"
          ]
        }
      ],
      "source": [
        "from pyspark.ml.tuning import TrainValidationSplit, ParamGridBuilder\n",
        "from pyspark.ml.evaluation import MulticlassClassificationEvaluator\n",
        "\n",
        "# =================================================================\n",
        "# ## Task 3: Model Tuning with TrainValidationSplit (Oversampling)\n",
        "# =================================================================\n",
        "# ## 3rd student name: Ammad Ali\n",
        "\n",
        "# --- 3.1 Define Parameter Grid & Evaluator ---\n",
        "paramGrid_oversampled = ParamGridBuilder() \\\n",
        "    .addGrid(rf.numTrees, [50, 100]) \\\n",
        "    .addGrid(rf.maxDepth, [5, 10]) \\\n",
        "    .build()\n",
        "\n",
        "evaluator = MulticlassClassificationEvaluator(labelCol=\"label\", predictionCol=\"prediction\", metricName=\"accuracy\")\n",
        "\n",
        "# --- 3.2 Set up and Run TrainValidationSplit ---\n",
        "# This will split the data one time to tune parameters.\n",
        "# trainRatio=0.8 means 80% of the input data is used for training, 20% for validation.\n",
        "tvs_oversampled = TrainValidationSplit(estimator=pipeline_oversampled,\n",
        "                                       estimatorParamMaps=paramGrid_oversampled,\n",
        "                                       evaluator=evaluator,\n",
        "                                       trainRatio=0.8) # 80% for training, 20% for validation\n",
        "\n",
        "print(\"\\nStarting model tuning for OVERSAMPLED data with TrainValidationSplit... ⏳\")\n",
        "# Fit the validator to the training data.\n",
        "tvsModel_oversampled = tvs_oversampled.fit(train_oversampled)\n",
        "print(\"Oversampling model tuning completed. ✅\")\n",
        "\n",
        "# --- 3.3 Get the Best Model ---\n",
        "bestModel_oversampled = tvsModel_oversampled.bestModel\n",
        "print(\"\\nBest model for oversampled data extracted from TrainValidationSplit.\")"
      ]
    },
    {
      "cell_type": "code",
      "execution_count": 34,
      "metadata": {
        "id": "TXvI5fUq53CB"
      },
      "outputs": [
        {
          "name": "stdout",
          "output_type": "stream",
          "text": [
            "\n",
            "Starting model tuning for UNDERSAMPLED data with TrainValidationSplit... ⏳\n",
            "Undersampling model tuning completed. ✅\n",
            "\n",
            "Best model for undersampled data extracted from TrainValidationSplit.\n"
          ]
        }
      ],
      "source": [
        "from pyspark.ml.tuning import TrainValidationSplit, ParamGridBuilder\n",
        "from pyspark.ml.evaluation import MulticlassClassificationEvaluator\n",
        "\n",
        "# =================================================================\n",
        "# ## Task 3: Model Tuning with TrainValidationSplit (Undersampling)\n",
        "# =================================================================\n",
        "# ## 3rd student name: Ammad Ali\n",
        "\n",
        "# --- 3.1 Define Parameter Grid & Evaluator ---\n",
        "paramGrid_undersampled = ParamGridBuilder() \\\n",
        "    .addGrid(rf.numTrees, [50, 100]) \\\n",
        "    .addGrid(rf.maxDepth, [5, 10]) \\\n",
        "    .build()\n",
        "\n",
        "evaluator = MulticlassClassificationEvaluator(labelCol=\"label\", predictionCol=\"prediction\", metricName=\"accuracy\")\n",
        "\n",
        "# --- 3.2 Set up and Run TrainValidationSplit ---\n",
        "tvs_undersampled = TrainValidationSplit(estimator=pipeline_undersampled,\n",
        "                                        estimatorParamMaps=paramGrid_undersampled,\n",
        "                                        evaluator=evaluator,\n",
        "                                        trainRatio=0.8)\n",
        "\n",
        "print(\"\\nStarting model tuning for UNDERSAMPLED data with TrainValidationSplit... ⏳\")\n",
        "# Fit the validator to the undersampled training data.\n",
        "tvsModel_undersampled = tvs_undersampled.fit(train_undersampled)\n",
        "print(\"Undersampling model tuning completed. ✅\")\n",
        "\n",
        "# --- 3.3 Get the Best Model ---\n",
        "bestModel_undersampled = tvsModel_undersampled.bestModel\n",
        "print(\"\\nBest model for undersampled data extracted from TrainValidationSplit.\")"
      ]
    },
    {
      "cell_type": "code",
      "execution_count": 35,
      "metadata": {
        "id": "eTdtD6MX522S"
      },
      "outputs": [
        {
          "name": "stdout",
          "output_type": "stream",
          "text": [
            "\n",
            "Starting model tuning for CLASS WEIGHTING data with TrainValidationSplit... ⏳\n",
            "Class weighting model tuning completed. ✅\n",
            "\n",
            "Best model for class weighting data extracted from TrainValidationSplit.\n"
          ]
        }
      ],
      "source": [
        "from pyspark.ml.tuning import TrainValidationSplit, ParamGridBuilder\n",
        "from pyspark.ml.evaluation import MulticlassClassificationEvaluator\n",
        "\n",
        "# =================================================================\n",
        "# ## Task 3: Model Tuning with TrainValidationSplit (Class Weighting)\n",
        "# =================================================================\n",
        "# ## 3rd student name: Ammad Ali\n",
        "\n",
        "# --- 3.1 Define Parameter Grid & Evaluator ---\n",
        "# Use the rf_weighted object from the class weighting pipeline.\n",
        "paramGrid_weighted = ParamGridBuilder() \\\n",
        "    .addGrid(rf_weighted.numTrees, [50, 100]) \\\n",
        "    .addGrid(rf_weighted.maxDepth, [5, 10]) \\\n",
        "    .build()\n",
        "\n",
        "evaluator = MulticlassClassificationEvaluator(labelCol=\"label\", predictionCol=\"prediction\", metricName=\"accuracy\")\n",
        "\n",
        "# --- 3.2 Set up and Run TrainValidationSplit ---\n",
        "# The estimator (pipeline_weighted) already has the weighted classifier configured.\n",
        "tvs_weighted = TrainValidationSplit(estimator=pipeline_weighted,\n",
        "                                    estimatorParamMaps=paramGrid_weighted,\n",
        "                                    evaluator=evaluator,\n",
        "                                    trainRatio=0.8)\n",
        "\n",
        "print(\"\\nStarting model tuning for CLASS WEIGHTING data with TrainValidationSplit... ⏳\")\n",
        "# Fit the validator to the weighted training data.\n",
        "tvsModel_weighted = tvs_weighted.fit(train_weighted)\n",
        "print(\"Class weighting model tuning completed. ✅\")\n",
        "\n",
        "# --- 3.3 Get the Best Model ---\n",
        "bestModel_weighted = tvsModel_weighted.bestModel\n",
        "print(\"\\nBest model for class weighting data extracted from TrainValidationSplit.\")"
      ]
    },
    {
      "cell_type": "code",
      "execution_count": null,
      "metadata": {
        "id": "hzZ20UCMHtnf"
      },
      "outputs": [],
      "source": []
    },
    {
      "cell_type": "code",
      "execution_count": null,
      "metadata": {
        "id": "gDC6hj76HuDB"
      },
      "outputs": [],
      "source": []
    },
    {
      "cell_type": "markdown",
      "metadata": {
        "id": "Np9gJPEIHwbG"
      },
      "source": [
        "---\n",
        "# **Task 4 - Model Evaluation and Accuracy Calculation (20 marks)**\n",
        "---"
      ]
    },
    {
      "cell_type": "code",
      "execution_count": 36,
      "metadata": {
        "id": "FCVAx1VsHws-"
      },
      "outputs": [
        {
          "name": "stdout",
          "output_type": "stream",
          "text": [
            "\n",
            "Making predictions with the best OVERSAMPLED model on the test set...\n",
            "Predictions generated.\n",
            "\n",
            "--- Oversampled Model Performance Metrics ---\n",
            "Accuracy: 80.30%\n",
            "F1-Score (Weighted): 0.83\n",
            "Weighted Precision: 0.87\n",
            "Weighted Recall: 0.80\n"
          ]
        }
      ],
      "source": [
        "from pyspark.ml.evaluation import MulticlassClassificationEvaluator\n",
        "\n",
        "# =================================================================\n",
        "# ## Task 4: Evaluation of the Best Oversampling Model\n",
        "# =================================================================\n",
        "# ## 1st student name: Ammad Ali\n",
        "\n",
        "# Assume 'bestModel_oversampled' and 'test_df_opt' are available.\n",
        "\n",
        "# --- 4.1 Make Predictions on Test Data ---\n",
        "print(\"\\nMaking predictions with the best OVERSAMPLED model on the test set...\")\n",
        "# Use the untouched, optimized test data for final evaluation.\n",
        "predictions_oversampled = bestModel_oversampled.transform(test_df_opt)\n",
        "print(\"Predictions generated.\")\n",
        "\n",
        "# --- 4.2 Calculate Performance Metrics ---\n",
        "print(\"\\n--- Oversampled Model Performance Metrics ---\")\n",
        "\n",
        "# Define evaluators for different metrics\n",
        "evaluator_accuracy = MulticlassClassificationEvaluator(labelCol=\"label\", predictionCol=\"prediction\", metricName=\"accuracy\")\n",
        "evaluator_f1 = MulticlassClassificationEvaluator(labelCol=\"label\", predictionCol=\"prediction\", metricName=\"f1\")\n",
        "evaluator_precision = MulticlassClassificationEvaluator(labelCol=\"label\", predictionCol=\"prediction\", metricName=\"weightedPrecision\")\n",
        "evaluator_recall = MulticlassClassificationEvaluator(labelCol=\"label\", predictionCol=\"prediction\", metricName=\"weightedRecall\")\n",
        "\n",
        "# Calculate and print each metric\n",
        "accuracy = evaluator_accuracy.evaluate(predictions_oversampled)\n",
        "print(f\"Accuracy: {accuracy * 100:.2f}%\")\n",
        "\n",
        "f1_score = evaluator_f1.evaluate(predictions_oversampled)\n",
        "print(f\"F1-Score (Weighted): {f1_score:.2f}\")\n",
        "\n",
        "precision = evaluator_precision.evaluate(predictions_oversampled)\n",
        "print(f\"Weighted Precision: {precision:.2f}\")\n",
        "\n",
        "recall = evaluator_recall.evaluate(predictions_oversampled)\n",
        "print(f\"Weighted Recall: {recall:.2f}\")"
      ]
    },
    {
      "cell_type": "code",
      "execution_count": 37,
      "metadata": {
        "id": "KpW2a6Oa6RXx"
      },
      "outputs": [
        {
          "name": "stdout",
          "output_type": "stream",
          "text": [
            "\n",
            "Making predictions with the best UNDERSAMPLED model on the test set...\n",
            "Predictions generated.\n",
            "\n",
            "--- Undersampled Model Performance Metrics ---\n",
            "Accuracy: 82.92%\n",
            "F1-Score (Weighted): 0.85\n",
            "Weighted Precision: 0.89\n",
            "Weighted Recall: 0.83\n"
          ]
        }
      ],
      "source": [
        "from pyspark.ml.evaluation import MulticlassClassificationEvaluator\n",
        "\n",
        "# =================================================================\n",
        "# ## Task 4: Evaluation of the Best Undersampling Model\n",
        "# =================================================================\n",
        "# ## 1st student name: Ammad Ali\n",
        "\n",
        "# Assume 'bestModel_undersampled' and 'test_df_undersampled_opt' are available.\n",
        "\n",
        "# --- 4.1 Make Predictions on Test Data ---\n",
        "print(\"\\nMaking predictions with the best UNDERSAMPLED model on the test set...\")\n",
        "# Use the untouched, optimized test data for final evaluation.\n",
        "predictions_undersampled = bestModel_undersampled.transform(test_df_undersampled_opt)\n",
        "print(\"Predictions generated.\")\n",
        "\n",
        "# --- 4.2 Calculate Performance Metrics ---\n",
        "print(\"\\n--- Undersampled Model Performance Metrics ---\")\n",
        "\n",
        "# Define evaluators for different metrics\n",
        "evaluator_accuracy = MulticlassClassificationEvaluator(labelCol=\"label\", predictionCol=\"prediction\", metricName=\"accuracy\")\n",
        "evaluator_f1 = MulticlassClassificationEvaluator(labelCol=\"label\", predictionCol=\"prediction\", metricName=\"f1\")\n",
        "evaluator_precision = MulticlassClassificationEvaluator(labelCol=\"label\", predictionCol=\"prediction\", metricName=\"weightedPrecision\")\n",
        "evaluator_recall = MulticlassClassificationEvaluator(labelCol=\"label\", predictionCol=\"prediction\", metricName=\"weightedRecall\")\n",
        "\n",
        "# Calculate and print each metric\n",
        "accuracy = evaluator_accuracy.evaluate(predictions_undersampled)\n",
        "print(f\"Accuracy: {accuracy * 100:.2f}%\")\n",
        "\n",
        "f1_score = evaluator_f1.evaluate(predictions_undersampled)\n",
        "print(f\"F1-Score (Weighted): {f1_score:.2f}\")\n",
        "\n",
        "precision = evaluator_precision.evaluate(predictions_undersampled)\n",
        "print(f\"Weighted Precision: {precision:.2f}\")\n",
        "\n",
        "recall = evaluator_recall.evaluate(predictions_undersampled)\n",
        "print(f\"Weighted Recall: {recall:.2f}\")"
      ]
    },
    {
      "cell_type": "code",
      "execution_count": 38,
      "metadata": {
        "id": "KWdbBVfO6TQv"
      },
      "outputs": [
        {
          "name": "stdout",
          "output_type": "stream",
          "text": [
            "\n",
            "Making predictions with the best CLASS WEIGHTING model on the test set...\n",
            "Predictions generated.\n",
            "\n",
            "--- Class Weighting Model Performance Metrics ---\n",
            "Accuracy: 84.86%\n",
            "F1-Score (Weighted): 0.87\n",
            "Weighted Precision: 0.90\n",
            "Weighted Recall: 0.85\n"
          ]
        }
      ],
      "source": [
        "from pyspark.ml.evaluation import MulticlassClassificationEvaluator\n",
        "\n",
        "# =================================================================\n",
        "# ## Task 4: Evaluation of the Best Class Weighting Model\n",
        "# =================================================================\n",
        "# ## 1st student name: Ammad Ali\n",
        "\n",
        "# Assume 'bestModel_weighted' and 'test_df_weights_opt' are available.\n",
        "\n",
        "# --- 4.1 Make Predictions on Test Data ---\n",
        "print(\"\\nMaking predictions with the best CLASS WEIGHTING model on the test set...\")\n",
        "# Use the untouched, optimized test data for final evaluation.\n",
        "predictions_weighted = bestModel_weighted.transform(test_df_weights_opt)\n",
        "print(\"Predictions generated.\")\n",
        "\n",
        "# --- 4.2 Calculate Performance Metrics ---\n",
        "print(\"\\n--- Class Weighting Model Performance Metrics ---\")\n",
        "\n",
        "# Define evaluators for different metrics\n",
        "evaluator_accuracy = MulticlassClassificationEvaluator(labelCol=\"label\", predictionCol=\"prediction\", metricName=\"accuracy\")\n",
        "evaluator_f1 = MulticlassClassificationEvaluator(labelCol=\"label\", predictionCol=\"prediction\", metricName=\"f1\")\n",
        "evaluator_precision = MulticlassClassificationEvaluator(labelCol=\"label\", predictionCol=\"prediction\", metricName=\"weightedPrecision\")\n",
        "evaluator_recall = MulticlassClassificationEvaluator(labelCol=\"label\", predictionCol=\"prediction\", metricName=\"weightedRecall\")\n",
        "\n",
        "# Calculate and print each metric\n",
        "accuracy = evaluator_accuracy.evaluate(predictions_weighted)\n",
        "print(f\"Accuracy: {accuracy * 100:.2f}%\")\n",
        "\n",
        "f1_score = evaluator_f1.evaluate(predictions_weighted)\n",
        "print(f\"F1-Score (Weighted): {f1_score:.2f}\")\n",
        "\n",
        "precision = evaluator_precision.evaluate(predictions_weighted)\n",
        "print(f\"Weighted Precision: {precision:.2f}\")\n",
        "\n",
        "recall = evaluator_recall.evaluate(predictions_weighted)\n",
        "print(f\"Weighted Recall: {recall:.2f}\")"
      ]
    },
    {
      "cell_type": "code",
      "execution_count": null,
      "metadata": {
        "id": "HLkmLxTdH8F7"
      },
      "outputs": [],
      "source": []
    },
    {
      "cell_type": "code",
      "execution_count": null,
      "metadata": {
        "id": "g2t1raIYH8V3"
      },
      "outputs": [],
      "source": []
    },
    {
      "cell_type": "markdown",
      "metadata": {
        "id": "dsERZv2WIB1H"
      },
      "source": [
        "---\n",
        "# **Task 5 - Results Visualization or Printing (5 marks)**\n",
        "---"
      ]
    },
    {
      "cell_type": "code",
      "execution_count": 22,
      "metadata": {
        "id": "j04CcL30ILx_"
      },
      "outputs": [
        {
          "name": "stdout",
          "output_type": "stream",
          "text": [
            "\n",
            "Sample Predictions from Oversampled Model (Actual vs. Predicted):\n",
            "+---------------------------------------------------+-----+----------+\n",
            "|Product                                            |label|prediction|\n",
            "+---------------------------------------------------+-----+----------+\n",
            "|Credit reporting or other personal consumer reports|0.0  |0.0       |\n",
            "|Credit reporting or other personal consumer reports|0.0  |0.0       |\n",
            "|Credit reporting or other personal consumer reports|0.0  |1.0       |\n",
            "|Credit reporting or other personal consumer reports|0.0  |0.0       |\n",
            "|Credit reporting or other personal consumer reports|0.0  |0.0       |\n",
            "|Credit reporting or other personal consumer reports|0.0  |0.0       |\n",
            "|Credit reporting or other personal consumer reports|0.0  |1.0       |\n",
            "|Credit reporting or other personal consumer reports|0.0  |0.0       |\n",
            "|Credit reporting or other personal consumer reports|0.0  |0.0       |\n",
            "|Credit reporting or other personal consumer reports|0.0  |0.0       |\n",
            "|Mortgage                                           |4.0  |4.0       |\n",
            "|Credit card                                        |3.0  |3.0       |\n",
            "|Credit reporting or other personal consumer reports|0.0  |5.0       |\n",
            "|Credit reporting or other personal consumer reports|0.0  |0.0       |\n",
            "|Credit reporting or other personal consumer reports|0.0  |0.0       |\n",
            "|Debt collection                                    |1.0  |0.0       |\n",
            "|Credit reporting or other personal consumer reports|0.0  |0.0       |\n",
            "|Credit reporting or other personal consumer reports|0.0  |0.0       |\n",
            "|Credit reporting or other personal consumer reports|0.0  |0.0       |\n",
            "|Student loan                                       |5.0  |5.0       |\n",
            "+---------------------------------------------------+-----+----------+\n",
            "only showing top 20 rows\n",
            "\n",
            "Generating Confusion Matrix for Oversampled Model...\n"
          ]
        },
        {
          "data": {
            "image/png": "[encoded data removed]",
            "text/plain": [
              "<Figure size 1000x800 with 2 Axes>"
            ]
          },
          "metadata": {},
          "output_type": "display_data"
        },
        {
          "name": "stdout",
          "output_type": "stream",
          "text": [
            "\n",
            "Oversampling visualization finished successfully!\n"
          ]
        }
      ],
      "source": [
        "import pandas as pd\n",
        "import seaborn as sns\n",
        "import matplotlib.pyplot as plt\n",
        "\n",
        "# =================================================================\n",
        "# ## Task 5: Results Visualization (Oversampling Model)\n",
        "# =================================================================\n",
        "# ## 2nd student name: Ammad Ali\n",
        "\n",
        "# --- 5.1 Show Sample Predictions ---\n",
        "print(\"\\nSample Predictions from Oversampled Model (Actual vs. Predicted):\")\n",
        "predictions_oversampled.select(\"Product\", \"label\", \"prediction\").show(20, truncate=False)\n",
        "\n",
        "# --- 5.2 Generate and Display Confusion Matrix ---\n",
        "print(\"\\nGenerating Confusion Matrix for Oversampled Model...\")\n",
        "# Convert Spark DataFrame to Pandas for visualization\n",
        "class_temp_oversampled = predictions_oversampled.select(\"label\", \"prediction\").toPandas()\n",
        "confusion_matrix_df = pd.crosstab(class_temp_oversampled['label'], class_temp_oversampled['prediction'],\n",
        "                                  rownames=['Actual Label'], colnames=['Predicted Label'])\n",
        "\n",
        "# Plot the heatmap\n",
        "plt.figure(figsize=(10, 8))\n",
        "sns.heatmap(confusion_matrix_df, annot=True, fmt='d', cmap='Blues')\n",
        "plt.title('Confusion Matrix (Oversampled Model)')\n",
        "plt.show()\n",
        "\n",
        "print(\"\\nOversampling visualization finished successfully!\")"
      ]
    },
    {
      "cell_type": "code",
      "execution_count": 23,
      "metadata": {
        "id": "3ZJtFBl86b_q"
      },
      "outputs": [
        {
          "name": "stdout",
          "output_type": "stream",
          "text": [
            "\n",
            "Sample Predictions from Undersampled Model (Actual vs. Predicted):\n",
            "+---------------------------------------------------+-----+----------+\n",
            "|Product                                            |label|prediction|\n",
            "+---------------------------------------------------+-----+----------+\n",
            "|Credit reporting or other personal consumer reports|0.0  |0.0       |\n",
            "|Credit reporting or other personal consumer reports|0.0  |0.0       |\n",
            "|Credit reporting or other personal consumer reports|0.0  |1.0       |\n",
            "|Credit reporting or other personal consumer reports|0.0  |0.0       |\n",
            "|Credit reporting or other personal consumer reports|0.0  |0.0       |\n",
            "|Credit reporting or other personal consumer reports|0.0  |0.0       |\n",
            "|Credit reporting or other personal consumer reports|0.0  |1.0       |\n",
            "|Credit reporting or other personal consumer reports|0.0  |0.0       |\n",
            "|Credit reporting or other personal consumer reports|0.0  |0.0       |\n",
            "|Credit reporting or other personal consumer reports|0.0  |0.0       |\n",
            "|Mortgage                                           |4.0  |4.0       |\n",
            "|Credit card                                        |3.0  |3.0       |\n",
            "|Credit reporting or other personal consumer reports|0.0  |5.0       |\n",
            "|Credit reporting or other personal consumer reports|0.0  |0.0       |\n",
            "|Credit reporting or other personal consumer reports|0.0  |0.0       |\n",
            "|Debt collection                                    |1.0  |0.0       |\n",
            "|Credit reporting or other personal consumer reports|0.0  |0.0       |\n",
            "|Credit reporting or other personal consumer reports|0.0  |0.0       |\n",
            "|Credit reporting or other personal consumer reports|0.0  |0.0       |\n",
            "|Student loan                                       |5.0  |5.0       |\n",
            "+---------------------------------------------------+-----+----------+\n",
            "only showing top 20 rows\n",
            "\n",
            "Generating Confusion Matrix for Undersampled Model...\n"
          ]
        },
        {
          "data": {
            "image/png": "[encoded data removed]",
            "text/plain": [
              "<Figure size 1000x800 with 2 Axes>"
            ]
          },
          "metadata": {},
          "output_type": "display_data"
        },
        {
          "name": "stdout",
          "output_type": "stream",
          "text": [
            "\n",
            "Undersampling visualization finished successfully!\n"
          ]
        }
      ],
      "source": [
        "import pandas as pd\n",
        "import seaborn as sns\n",
        "import matplotlib.pyplot as plt\n",
        "\n",
        "# =================================================================\n",
        "# ## Task 5: Results Visualization (Undersampling Model)\n",
        "# =================================================================\n",
        "# ## 2nd student name: Ammad Ali\n",
        "\n",
        "# --- 5.1 Show Sample Predictions ---\n",
        "print(\"\\nSample Predictions from Undersampled Model (Actual vs. Predicted):\")\n",
        "predictions_undersampled.select(\"Product\", \"label\", \"prediction\").show(20, truncate=False)\n",
        "\n",
        "# --- 5.2 Generate and Display Confusion Matrix ---\n",
        "print(\"\\nGenerating Confusion Matrix for Undersampled Model...\")\n",
        "# Convert Spark DataFrame to Pandas for visualization\n",
        "class_temp_undersampled = predictions_undersampled.select(\"label\", \"prediction\").toPandas()\n",
        "confusion_matrix_df = pd.crosstab(class_temp_undersampled['label'], class_temp_undersampled['prediction'],\n",
        "                                  rownames=['Actual Label'], colnames=['Predicted Label'])\n",
        "\n",
        "# Plot the heatmap\n",
        "plt.figure(figsize=(10, 8))\n",
        "sns.heatmap(confusion_matrix_df, annot=True, fmt='d', cmap='Greens')\n",
        "plt.title('Confusion Matrix (Undersampled Model)')\n",
        "plt.show()\n",
        "\n",
        "print(\"\\nUndersampling visualization finished successfully!\")"
      ]
    },
    {
      "cell_type": "code",
      "execution_count": 24,
      "metadata": {
        "id": "BnMCgif36dfz"
      },
      "outputs": [
        {
          "name": "stdout",
          "output_type": "stream",
          "text": [
            "\n",
            "Sample Predictions from Class Weighting Model (Actual vs. Predicted):\n",
            "+---------------------------------------------------+-----+----------+\n",
            "|Product                                            |label|prediction|\n",
            "+---------------------------------------------------+-----+----------+\n",
            "|Credit reporting or other personal consumer reports|0.0  |0.0       |\n",
            "|Credit reporting or other personal consumer reports|0.0  |0.0       |\n",
            "|Credit reporting or other personal consumer reports|0.0  |0.0       |\n",
            "|Credit reporting or other personal consumer reports|0.0  |0.0       |\n",
            "|Credit reporting or other personal consumer reports|0.0  |0.0       |\n",
            "|Credit reporting or other personal consumer reports|0.0  |0.0       |\n",
            "|Credit reporting or other personal consumer reports|0.0  |0.0       |\n",
            "|Credit reporting or other personal consumer reports|0.0  |0.0       |\n",
            "|Credit reporting or other personal consumer reports|0.0  |0.0       |\n",
            "|Credit reporting or other personal consumer reports|0.0  |0.0       |\n",
            "|Mortgage                                           |4.0  |4.0       |\n",
            "|Credit card                                        |3.0  |3.0       |\n",
            "|Credit reporting or other personal consumer reports|0.0  |5.0       |\n",
            "|Credit reporting or other personal consumer reports|0.0  |0.0       |\n",
            "|Credit reporting or other personal consumer reports|0.0  |0.0       |\n",
            "|Debt collection                                    |1.0  |0.0       |\n",
            "|Credit reporting or other personal consumer reports|0.0  |0.0       |\n",
            "|Credit reporting or other personal consumer reports|0.0  |0.0       |\n",
            "|Credit reporting or other personal consumer reports|0.0  |0.0       |\n",
            "|Student loan                                       |5.0  |5.0       |\n",
            "+---------------------------------------------------+-----+----------+\n",
            "only showing top 20 rows\n",
            "\n",
            "Generating Confusion Matrix for Class Weighting Model...\n"
          ]
        },
        {
          "data": {
            "image/png": "[encoded data removed]",
            "text/plain": [
              "<Figure size 1000x800 with 2 Axes>"
            ]
          },
          "metadata": {},
          "output_type": "display_data"
        },
        {
          "name": "stdout",
          "output_type": "stream",
          "text": [
            "\n",
            "Class weighting visualization finished successfully!\n"
          ]
        }
      ],
      "source": [
        "import pandas as pd\n",
        "import seaborn as sns\n",
        "import matplotlib.pyplot as plt\n",
        "\n",
        "# =================================================================\n",
        "# ## Task 5: Results Visualization (Class Weighting Model)\n",
        "# =================================================================\n",
        "# ## 2nd student name: Ammad Ali\n",
        "\n",
        "# --- 5.1 Show Sample Predictions ---\n",
        "print(\"\\nSample Predictions from Class Weighting Model (Actual vs. Predicted):\")\n",
        "predictions_weighted.select(\"Product\", \"label\", \"prediction\").show(20, truncate=False)\n",
        "\n",
        "# --- 5.2 Generate and Display Confusion Matrix ---\n",
        "print(\"\\nGenerating Confusion Matrix for Class Weighting Model...\")\n",
        "# Convert Spark DataFrame to Pandas for visualization\n",
        "class_temp_weighted = predictions_weighted.select(\"label\", \"prediction\").toPandas()\n",
        "confusion_matrix_df = pd.crosstab(class_temp_weighted['label'], class_temp_weighted['prediction'],\n",
        "                                  rownames=['Actual Label'], colnames=['Predicted Label'])\n",
        "\n",
        "# Plot the heatmap\n",
        "plt.figure(figsize=(10, 8))\n",
        "sns.heatmap(confusion_matrix_df, annot=True, fmt='d', cmap='Oranges')\n",
        "plt.title('Confusion Matrix (Class Weighting Model)')\n",
        "plt.show()\n",
        "\n",
        "print(\"\\nClass weighting visualization finished successfully!\")"
      ]
    },
    {
      "cell_type": "code",
      "execution_count": null,
      "metadata": {
        "id": "hQDC_KW3IMFQ"
      },
      "outputs": [],
      "source": []
    },
    {
      "cell_type": "code",
      "execution_count": null,
      "metadata": {
        "id": "r1wLeCkCIMiE"
      },
      "outputs": [],
      "source": []
    },
    {
      "cell_type": "markdown",
      "metadata": {
        "id": "rIGDXqDdIQ4U"
      },
      "source": [
        "---\n",
        "# **Task 6 - LSEP Considerations (10 marks)**\n",
        "---"
      ]
    },
    {
      "cell_type": "markdown",
      "metadata": {
        "id": "vuCxxQnYI_FP"
      },
      "source": [
        "# Student 1: **Type the chosen issue**\n",
        "\n",
        "add contribution here ..."
      ]
    },
    {
      "cell_type": "markdown",
      "metadata": {
        "id": "AgLfrAGfJQxF"
      },
      "source": [
        "# Student 2: **Type the chosen issue**\n",
        "\n",
        "add contribution here ..."
      ]
    },
    {
      "cell_type": "markdown",
      "metadata": {
        "id": "w0Vf5UwdJRH9"
      },
      "source": [
        "# Student 3: **Type the chosen issue**\n",
        "\n",
        "add contribution here ..."
      ]
    },
    {
      "cell_type": "markdown",
      "metadata": {
        "id": "mIM6uLApSxi2"
      },
      "source": [
        "---\n",
        "\n",
        "# **Task 7 - Convert ipynb to HTML for Turnitin submission [5 marks]**\n",
        "\n",
        "---\n",
        "\n"
      ]
    },
    {
      "cell_type": "code",
      "execution_count": null,
      "metadata": {
        "id": "ZrQu11N_DCfZ"
      },
      "outputs": [],
      "source": [
        "# install nbconvert (if facing the conversion error)\n",
        "# !pip3 install nbconvert\n"
      ]
    },
    {
      "cell_type": "code",
      "execution_count": null,
      "metadata": {
        "id": "ReZWnCYdDH66"
      },
      "outputs": [],
      "source": [
        "# convert ipynb to html and submit this HTML file\n",
        "# !jupyter nbconvert --to html Your_Group_ID_CRWK_CN7030_Template.ipynb"
      ]
    },
    {
      "cell_type": "markdown",
      "metadata": {
        "id": "VjPzgSLgRst9"
      },
      "source": []
    }
  ],
  "metadata": {
    "colab": {
      "provenance": []
    },
    "kernelspec": {
      "display_name": "venv",
      "language": "python",
      "name": "python3"
    },
    "language_info": {
      "codemirror_mode": {
        "name": "ipython",
        "version": 3
      },
      "file_extension": ".py",
      "mimetype": "text/x-python",
      "name": "python",
      "nbconvert_exporter": "python",
      "pygments_lexer": "ipython3",
      "version": "3.12.3"
    }
  },
  "nbformat": 4,
  "nbformat_minor": 0
}
